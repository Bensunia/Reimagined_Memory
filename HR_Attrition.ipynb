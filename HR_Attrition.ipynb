{
 "cells": [
  {
   "cell_type": "markdown",
   "metadata": {},
   "source": [
    "# HR Analytics\n",
    "# Logistic Regression To Predict Attrition in a Company. "
   ]
  },
  {
   "cell_type": "markdown",
   "metadata": {},
   "source": [
    "## 1. Data Loading"
   ]
  },
  {
   "cell_type": "code",
   "execution_count": 1,
   "metadata": {
    "scrolled": true
   },
   "outputs": [
    {
     "name": "stdout",
     "output_type": "stream",
     "text": [
      "Column names:\n",
      "['satisfaction_level', 'last_evaluation', 'number_project', 'average_montly_hours', 'time_spend_company', 'Work_accident', 'left', 'promotion_last_5years', 'sales', 'salary']\n",
      "\n",
      "Sample data:\n"
     ]
    },
    {
     "name": "stderr",
     "output_type": "stream",
     "text": [
      "/opt/anaconda3/lib/python3.7/site-packages/sklearn/externals/joblib/__init__.py:15: FutureWarning: sklearn.externals.joblib is deprecated in 0.21 and will be removed in 0.23. Please import this functionality directly from joblib, which can be installed with: pip install joblib. If this warning is raised when loading pickled models, you may need to re-serialize those models with scikit-learn 0.21+.\n",
      "  warnings.warn(msg, category=FutureWarning)\n"
     ]
    },
    {
     "data": {
      "text/html": [
       "<div>\n",
       "<style scoped>\n",
       "    .dataframe tbody tr th:only-of-type {\n",
       "        vertical-align: middle;\n",
       "    }\n",
       "\n",
       "    .dataframe tbody tr th {\n",
       "        vertical-align: top;\n",
       "    }\n",
       "\n",
       "    .dataframe thead th {\n",
       "        text-align: right;\n",
       "    }\n",
       "</style>\n",
       "<table border=\"1\" class=\"dataframe\">\n",
       "  <thead>\n",
       "    <tr style=\"text-align: right;\">\n",
       "      <th></th>\n",
       "      <th>satisfaction_level</th>\n",
       "      <th>last_evaluation</th>\n",
       "      <th>number_project</th>\n",
       "      <th>average_montly_hours</th>\n",
       "      <th>time_spend_company</th>\n",
       "      <th>Work_accident</th>\n",
       "      <th>left</th>\n",
       "      <th>promotion_last_5years</th>\n",
       "      <th>sales</th>\n",
       "      <th>salary</th>\n",
       "    </tr>\n",
       "  </thead>\n",
       "  <tbody>\n",
       "    <tr>\n",
       "      <th>0</th>\n",
       "      <td>0.38</td>\n",
       "      <td>0.53</td>\n",
       "      <td>2</td>\n",
       "      <td>157</td>\n",
       "      <td>3</td>\n",
       "      <td>0</td>\n",
       "      <td>1</td>\n",
       "      <td>0</td>\n",
       "      <td>sales</td>\n",
       "      <td>low</td>\n",
       "    </tr>\n",
       "    <tr>\n",
       "      <th>1</th>\n",
       "      <td>0.80</td>\n",
       "      <td>0.86</td>\n",
       "      <td>5</td>\n",
       "      <td>262</td>\n",
       "      <td>6</td>\n",
       "      <td>0</td>\n",
       "      <td>1</td>\n",
       "      <td>0</td>\n",
       "      <td>sales</td>\n",
       "      <td>medium</td>\n",
       "    </tr>\n",
       "    <tr>\n",
       "      <th>2</th>\n",
       "      <td>0.11</td>\n",
       "      <td>0.88</td>\n",
       "      <td>7</td>\n",
       "      <td>272</td>\n",
       "      <td>4</td>\n",
       "      <td>0</td>\n",
       "      <td>1</td>\n",
       "      <td>0</td>\n",
       "      <td>sales</td>\n",
       "      <td>medium</td>\n",
       "    </tr>\n",
       "    <tr>\n",
       "      <th>3</th>\n",
       "      <td>0.72</td>\n",
       "      <td>0.87</td>\n",
       "      <td>5</td>\n",
       "      <td>223</td>\n",
       "      <td>5</td>\n",
       "      <td>0</td>\n",
       "      <td>1</td>\n",
       "      <td>0</td>\n",
       "      <td>sales</td>\n",
       "      <td>low</td>\n",
       "    </tr>\n",
       "    <tr>\n",
       "      <th>4</th>\n",
       "      <td>0.37</td>\n",
       "      <td>0.52</td>\n",
       "      <td>2</td>\n",
       "      <td>159</td>\n",
       "      <td>3</td>\n",
       "      <td>0</td>\n",
       "      <td>1</td>\n",
       "      <td>0</td>\n",
       "      <td>sales</td>\n",
       "      <td>low</td>\n",
       "    </tr>\n",
       "  </tbody>\n",
       "</table>\n",
       "</div>"
      ],
      "text/plain": [
       "   satisfaction_level  last_evaluation  number_project  average_montly_hours  \\\n",
       "0                0.38             0.53               2                   157   \n",
       "1                0.80             0.86               5                   262   \n",
       "2                0.11             0.88               7                   272   \n",
       "3                0.72             0.87               5                   223   \n",
       "4                0.37             0.52               2                   159   \n",
       "\n",
       "   time_spend_company  Work_accident  left  promotion_last_5years  sales  \\\n",
       "0                   3              0     1                      0  sales   \n",
       "1                   6              0     1                      0  sales   \n",
       "2                   4              0     1                      0  sales   \n",
       "3                   5              0     1                      0  sales   \n",
       "4                   3              0     1                      0  sales   \n",
       "\n",
       "   salary  \n",
       "0     low  \n",
       "1  medium  \n",
       "2  medium  \n",
       "3     low  \n",
       "4     low  "
      ]
     },
     "execution_count": 1,
     "metadata": {},
     "output_type": "execute_result"
    }
   ],
   "source": [
    "## importing all libraries and loading the dataset with pandas. \n",
    "from dataset import Dataset as dataset\n",
    "from sklearn.linear_model import LogisticRegression\n",
    "from typing import List\n",
    "from skrebate import ReliefF\n",
    "from sklearn.metrics import accuracy_score, f1_score, recall_score, matthews_corrcoef\n",
    "from sklearn.model_selection import cross_val_score\n",
    "\n",
    "\n",
    "import pandas as pd\n",
    "import numpy as np\n",
    "import matplotlib.pyplot as plt\n",
    "import matplotlib as matplot\n",
    "import seaborn as sns\n",
    "%matplotlib inline\n",
    "\n",
    "attrition_df = pd.read_csv('turnover.csv')\n",
    "col_names = attrition_df.columns.tolist()\n",
    "print(\"Column names:\")\n",
    "print(col_names)\n",
    "print(\"\\nSample data:\")\n",
    "attrition_df.head()"
   ]
  },
  {
   "cell_type": "code",
   "execution_count": 2,
   "metadata": {},
   "outputs": [
    {
     "data": {
      "text/html": [
       "<div>\n",
       "<style scoped>\n",
       "    .dataframe tbody tr th:only-of-type {\n",
       "        vertical-align: middle;\n",
       "    }\n",
       "\n",
       "    .dataframe tbody tr th {\n",
       "        vertical-align: top;\n",
       "    }\n",
       "\n",
       "    .dataframe thead th {\n",
       "        text-align: right;\n",
       "    }\n",
       "</style>\n",
       "<table border=\"1\" class=\"dataframe\">\n",
       "  <thead>\n",
       "    <tr style=\"text-align: right;\">\n",
       "      <th></th>\n",
       "      <th>satisfaction_level</th>\n",
       "      <th>last_evaluation</th>\n",
       "      <th>number_project</th>\n",
       "      <th>average_montly_hours</th>\n",
       "      <th>time_spend_company</th>\n",
       "      <th>Work_accident</th>\n",
       "      <th>left</th>\n",
       "      <th>promotion_last_5years</th>\n",
       "      <th>sales</th>\n",
       "      <th>salary</th>\n",
       "    </tr>\n",
       "  </thead>\n",
       "  <tbody>\n",
       "    <tr>\n",
       "      <th>14994</th>\n",
       "      <td>0.40</td>\n",
       "      <td>0.57</td>\n",
       "      <td>2</td>\n",
       "      <td>151</td>\n",
       "      <td>3</td>\n",
       "      <td>0</td>\n",
       "      <td>1</td>\n",
       "      <td>0</td>\n",
       "      <td>support</td>\n",
       "      <td>low</td>\n",
       "    </tr>\n",
       "    <tr>\n",
       "      <th>14995</th>\n",
       "      <td>0.37</td>\n",
       "      <td>0.48</td>\n",
       "      <td>2</td>\n",
       "      <td>160</td>\n",
       "      <td>3</td>\n",
       "      <td>0</td>\n",
       "      <td>1</td>\n",
       "      <td>0</td>\n",
       "      <td>support</td>\n",
       "      <td>low</td>\n",
       "    </tr>\n",
       "    <tr>\n",
       "      <th>14996</th>\n",
       "      <td>0.37</td>\n",
       "      <td>0.53</td>\n",
       "      <td>2</td>\n",
       "      <td>143</td>\n",
       "      <td>3</td>\n",
       "      <td>0</td>\n",
       "      <td>1</td>\n",
       "      <td>0</td>\n",
       "      <td>support</td>\n",
       "      <td>low</td>\n",
       "    </tr>\n",
       "    <tr>\n",
       "      <th>14997</th>\n",
       "      <td>0.11</td>\n",
       "      <td>0.96</td>\n",
       "      <td>6</td>\n",
       "      <td>280</td>\n",
       "      <td>4</td>\n",
       "      <td>0</td>\n",
       "      <td>1</td>\n",
       "      <td>0</td>\n",
       "      <td>support</td>\n",
       "      <td>low</td>\n",
       "    </tr>\n",
       "    <tr>\n",
       "      <th>14998</th>\n",
       "      <td>0.37</td>\n",
       "      <td>0.52</td>\n",
       "      <td>2</td>\n",
       "      <td>158</td>\n",
       "      <td>3</td>\n",
       "      <td>0</td>\n",
       "      <td>1</td>\n",
       "      <td>0</td>\n",
       "      <td>support</td>\n",
       "      <td>low</td>\n",
       "    </tr>\n",
       "  </tbody>\n",
       "</table>\n",
       "</div>"
      ],
      "text/plain": [
       "       satisfaction_level  last_evaluation  number_project  \\\n",
       "14994                0.40             0.57               2   \n",
       "14995                0.37             0.48               2   \n",
       "14996                0.37             0.53               2   \n",
       "14997                0.11             0.96               6   \n",
       "14998                0.37             0.52               2   \n",
       "\n",
       "       average_montly_hours  time_spend_company  Work_accident  left  \\\n",
       "14994                   151                   3              0     1   \n",
       "14995                   160                   3              0     1   \n",
       "14996                   143                   3              0     1   \n",
       "14997                   280                   4              0     1   \n",
       "14998                   158                   3              0     1   \n",
       "\n",
       "       promotion_last_5years    sales salary  \n",
       "14994                      0  support    low  \n",
       "14995                      0  support    low  \n",
       "14996                      0  support    low  \n",
       "14997                      0  support    low  \n",
       "14998                      0  support    low  "
      ]
     },
     "execution_count": 2,
     "metadata": {},
     "output_type": "execute_result"
    }
   ],
   "source": [
    "attrition_df.tail()\n",
    "## Visualize the last 5 elements of the dataset. "
   ]
  },
  {
   "cell_type": "markdown",
   "metadata": {},
   "source": [
    "## 2. Data Exploration"
   ]
  },
  {
   "cell_type": "markdown",
   "metadata": {},
   "source": [
    "#### 2.1 Rename column name from sales to department to make it more intuitive to work. "
   ]
  },
  {
   "cell_type": "code",
   "execution_count": 3,
   "metadata": {},
   "outputs": [],
   "source": [
    "attrition_df=attrition_df.rename(columns = {'sales':'department'})"
   ]
  },
  {
   "cell_type": "markdown",
   "metadata": {},
   "source": [
    "#### 2.2 Check what are the data types present in our dataset."
   ]
  },
  {
   "cell_type": "code",
   "execution_count": 4,
   "metadata": {},
   "outputs": [
    {
     "data": {
      "text/plain": [
       "satisfaction_level       float64\n",
       "last_evaluation          float64\n",
       "number_project             int64\n",
       "average_montly_hours       int64\n",
       "time_spend_company         int64\n",
       "Work_accident              int64\n",
       "left                       int64\n",
       "promotion_last_5years      int64\n",
       "department                object\n",
       "salary                    object\n",
       "dtype: object"
      ]
     },
     "execution_count": 4,
     "metadata": {},
     "output_type": "execute_result"
    }
   ],
   "source": [
    "attrition_df.dtypes"
   ]
  },
  {
   "cell_type": "markdown",
   "metadata": {},
   "source": [
    "#### 2.3 Description of numerical columns --> Mean, Standard Deviation, Min, Max and Quartiles"
   ]
  },
  {
   "cell_type": "code",
   "execution_count": 5,
   "metadata": {},
   "outputs": [
    {
     "data": {
      "text/html": [
       "<div>\n",
       "<style scoped>\n",
       "    .dataframe tbody tr th:only-of-type {\n",
       "        vertical-align: middle;\n",
       "    }\n",
       "\n",
       "    .dataframe tbody tr th {\n",
       "        vertical-align: top;\n",
       "    }\n",
       "\n",
       "    .dataframe thead th {\n",
       "        text-align: right;\n",
       "    }\n",
       "</style>\n",
       "<table border=\"1\" class=\"dataframe\">\n",
       "  <thead>\n",
       "    <tr style=\"text-align: right;\">\n",
       "      <th></th>\n",
       "      <th>satisfaction_level</th>\n",
       "      <th>last_evaluation</th>\n",
       "      <th>number_project</th>\n",
       "      <th>average_montly_hours</th>\n",
       "      <th>time_spend_company</th>\n",
       "      <th>Work_accident</th>\n",
       "      <th>left</th>\n",
       "      <th>promotion_last_5years</th>\n",
       "    </tr>\n",
       "  </thead>\n",
       "  <tbody>\n",
       "    <tr>\n",
       "      <th>count</th>\n",
       "      <td>14999.000000</td>\n",
       "      <td>14999.000000</td>\n",
       "      <td>14999.000000</td>\n",
       "      <td>14999.000000</td>\n",
       "      <td>14999.000000</td>\n",
       "      <td>14999.000000</td>\n",
       "      <td>14999.000000</td>\n",
       "      <td>14999.000000</td>\n",
       "    </tr>\n",
       "    <tr>\n",
       "      <th>mean</th>\n",
       "      <td>0.612834</td>\n",
       "      <td>0.716102</td>\n",
       "      <td>3.803054</td>\n",
       "      <td>201.050337</td>\n",
       "      <td>3.498233</td>\n",
       "      <td>0.144610</td>\n",
       "      <td>0.238083</td>\n",
       "      <td>0.021268</td>\n",
       "    </tr>\n",
       "    <tr>\n",
       "      <th>std</th>\n",
       "      <td>0.248631</td>\n",
       "      <td>0.171169</td>\n",
       "      <td>1.232592</td>\n",
       "      <td>49.943099</td>\n",
       "      <td>1.460136</td>\n",
       "      <td>0.351719</td>\n",
       "      <td>0.425924</td>\n",
       "      <td>0.144281</td>\n",
       "    </tr>\n",
       "    <tr>\n",
       "      <th>min</th>\n",
       "      <td>0.090000</td>\n",
       "      <td>0.360000</td>\n",
       "      <td>2.000000</td>\n",
       "      <td>96.000000</td>\n",
       "      <td>2.000000</td>\n",
       "      <td>0.000000</td>\n",
       "      <td>0.000000</td>\n",
       "      <td>0.000000</td>\n",
       "    </tr>\n",
       "    <tr>\n",
       "      <th>25%</th>\n",
       "      <td>0.440000</td>\n",
       "      <td>0.560000</td>\n",
       "      <td>3.000000</td>\n",
       "      <td>156.000000</td>\n",
       "      <td>3.000000</td>\n",
       "      <td>0.000000</td>\n",
       "      <td>0.000000</td>\n",
       "      <td>0.000000</td>\n",
       "    </tr>\n",
       "    <tr>\n",
       "      <th>50%</th>\n",
       "      <td>0.640000</td>\n",
       "      <td>0.720000</td>\n",
       "      <td>4.000000</td>\n",
       "      <td>200.000000</td>\n",
       "      <td>3.000000</td>\n",
       "      <td>0.000000</td>\n",
       "      <td>0.000000</td>\n",
       "      <td>0.000000</td>\n",
       "    </tr>\n",
       "    <tr>\n",
       "      <th>75%</th>\n",
       "      <td>0.820000</td>\n",
       "      <td>0.870000</td>\n",
       "      <td>5.000000</td>\n",
       "      <td>245.000000</td>\n",
       "      <td>4.000000</td>\n",
       "      <td>0.000000</td>\n",
       "      <td>0.000000</td>\n",
       "      <td>0.000000</td>\n",
       "    </tr>\n",
       "    <tr>\n",
       "      <th>max</th>\n",
       "      <td>1.000000</td>\n",
       "      <td>1.000000</td>\n",
       "      <td>7.000000</td>\n",
       "      <td>310.000000</td>\n",
       "      <td>10.000000</td>\n",
       "      <td>1.000000</td>\n",
       "      <td>1.000000</td>\n",
       "      <td>1.000000</td>\n",
       "    </tr>\n",
       "  </tbody>\n",
       "</table>\n",
       "</div>"
      ],
      "text/plain": [
       "       satisfaction_level  last_evaluation  number_project  \\\n",
       "count        14999.000000     14999.000000    14999.000000   \n",
       "mean             0.612834         0.716102        3.803054   \n",
       "std              0.248631         0.171169        1.232592   \n",
       "min              0.090000         0.360000        2.000000   \n",
       "25%              0.440000         0.560000        3.000000   \n",
       "50%              0.640000         0.720000        4.000000   \n",
       "75%              0.820000         0.870000        5.000000   \n",
       "max              1.000000         1.000000        7.000000   \n",
       "\n",
       "       average_montly_hours  time_spend_company  Work_accident          left  \\\n",
       "count          14999.000000        14999.000000   14999.000000  14999.000000   \n",
       "mean             201.050337            3.498233       0.144610      0.238083   \n",
       "std               49.943099            1.460136       0.351719      0.425924   \n",
       "min               96.000000            2.000000       0.000000      0.000000   \n",
       "25%              156.000000            3.000000       0.000000      0.000000   \n",
       "50%              200.000000            3.000000       0.000000      0.000000   \n",
       "75%              245.000000            4.000000       0.000000      0.000000   \n",
       "max              310.000000           10.000000       1.000000      1.000000   \n",
       "\n",
       "       promotion_last_5years  \n",
       "count           14999.000000  \n",
       "mean                0.021268  \n",
       "std                 0.144281  \n",
       "min                 0.000000  \n",
       "25%                 0.000000  \n",
       "50%                 0.000000  \n",
       "75%                 0.000000  \n",
       "max                 1.000000  "
      ]
     },
     "execution_count": 5,
     "metadata": {},
     "output_type": "execute_result"
    }
   ],
   "source": [
    "attrition_df.describe()"
   ]
  },
  {
   "cell_type": "markdown",
   "metadata": {},
   "source": [
    "#### 2.4 Checking the amount of rows and columns in our dataset. "
   ]
  },
  {
   "cell_type": "code",
   "execution_count": 6,
   "metadata": {},
   "outputs": [
    {
     "data": {
      "text/plain": [
       "(14999, 10)"
      ]
     },
     "execution_count": 6,
     "metadata": {},
     "output_type": "execute_result"
    }
   ],
   "source": [
    "attrition_df.shape"
   ]
  },
  {
   "cell_type": "markdown",
   "metadata": {},
   "source": [
    "#### 2.5 Checking the amount of unique values in our categorical variables.\n",
    "\n",
    "##### 2.5.1 Department Column:"
   ]
  },
  {
   "cell_type": "code",
   "execution_count": 7,
   "metadata": {},
   "outputs": [
    {
     "data": {
      "text/plain": [
       "array(['sales', 'accounting', 'hr', 'technical', 'support', 'management',\n",
       "       'IT', 'product_mng', 'marketing', 'RandD'], dtype=object)"
      ]
     },
     "execution_count": 7,
     "metadata": {},
     "output_type": "execute_result"
    }
   ],
   "source": [
    "attrition_df['department'].unique()"
   ]
  },
  {
   "cell_type": "markdown",
   "metadata": {},
   "source": [
    "##### 2.5.2 Salary Column"
   ]
  },
  {
   "cell_type": "code",
   "execution_count": 8,
   "metadata": {},
   "outputs": [
    {
     "data": {
      "text/plain": [
       "array(['low', 'medium', 'high'], dtype=object)"
      ]
     },
     "execution_count": 8,
     "metadata": {},
     "output_type": "execute_result"
    }
   ],
   "source": [
    "attrition_df['salary'].unique()"
   ]
  },
  {
   "cell_type": "markdown",
   "metadata": {},
   "source": [
    "#### 2.6 Checking for Null values in our dataset. "
   ]
  },
  {
   "cell_type": "code",
   "execution_count": 9,
   "metadata": {},
   "outputs": [
    {
     "data": {
      "text/plain": [
       "satisfaction_level       False\n",
       "last_evaluation          False\n",
       "number_project           False\n",
       "average_montly_hours     False\n",
       "time_spend_company       False\n",
       "Work_accident            False\n",
       "left                     False\n",
       "promotion_last_5years    False\n",
       "department               False\n",
       "salary                   False\n",
       "dtype: bool"
      ]
     },
     "execution_count": 9,
     "metadata": {},
     "output_type": "execute_result"
    }
   ],
   "source": [
    "attrition_df.isnull().any()"
   ]
  },
  {
   "cell_type": "markdown",
   "metadata": {},
   "source": [
    "##### There are no nulls in our dataset. "
   ]
  },
  {
   "cell_type": "markdown",
   "metadata": {},
   "source": [
    "## 3. Data Preparation"
   ]
  },
  {
   "cell_type": "markdown",
   "metadata": {},
   "source": [
    "#### 3.1 Reducing the amount of departments by changing the names of similar departments. In this case we set up Support and IT departments as Technical. This reduces the amount of departments from 10 to 8. "
   ]
  },
  {
   "cell_type": "code",
   "execution_count": 10,
   "metadata": {},
   "outputs": [
    {
     "data": {
      "text/plain": [
       "array(['sales', 'accounting', 'hr', 'technical', 'management',\n",
       "       'product_mng', 'marketing', 'RandD'], dtype=object)"
      ]
     },
     "execution_count": 10,
     "metadata": {},
     "output_type": "execute_result"
    }
   ],
   "source": [
    "attrition_df['department']=np.where(attrition_df['department'] =='support', 'technical', attrition_df['department'])\n",
    "attrition_df['department']=np.where(attrition_df['department'] =='IT', 'technical', attrition_df['department'])\n",
    "\n",
    "attrition_df['department'].unique()"
   ]
  },
  {
   "cell_type": "markdown",
   "metadata": {},
   "source": [
    "#### 3.2 Changing department and salary columns into characters instead of objects. "
   ]
  },
  {
   "cell_type": "code",
   "execution_count": 11,
   "metadata": {},
   "outputs": [
    {
     "data": {
      "text/plain": [
       "satisfaction_level        float64\n",
       "last_evaluation           float64\n",
       "number_project              int64\n",
       "average_montly_hours        int64\n",
       "time_spend_company          int64\n",
       "Work_accident               int64\n",
       "left                        int64\n",
       "promotion_last_5years       int64\n",
       "department               category\n",
       "salary                   category\n",
       "dtype: object"
      ]
     },
     "execution_count": 11,
     "metadata": {},
     "output_type": "execute_result"
    }
   ],
   "source": [
    "attrition_df['department'] = attrition_df.department.astype('category')\n",
    "attrition_df['salary'] = attrition_df.salary.astype('category')\n",
    "\n",
    "attrition_df.dtypes"
   ]
  },
  {
   "cell_type": "markdown",
   "metadata": {},
   "source": [
    "#### 3.3 Outlier Analysis by Column\n",
    "\n",
    "##### 3.3.1 Last Evaluation"
   ]
  },
  {
   "cell_type": "code",
   "execution_count": 12,
   "metadata": {},
   "outputs": [
    {
     "data": {
      "text/plain": [
       "<matplotlib.axes._subplots.AxesSubplot at 0x1a20555190>"
      ]
     },
     "execution_count": 12,
     "metadata": {},
     "output_type": "execute_result"
    },
    {
     "data": {
      "image/png": "[encoded data removed]",
      "text/plain": [
       "<Figure size 288x288 with 1 Axes>"
      ]
     },
     "metadata": {
      "needs_background": "light"
     },
     "output_type": "display_data"
    }
   ],
   "source": [
    "plt.figure(figsize=(4,4))\n",
    "attrition_df.boxplot(['last_evaluation'],grid=False, fontsize=10)"
   ]
  },
  {
   "cell_type": "markdown",
   "metadata": {},
   "source": [
    "##### 3.3.2 Satisfaction Level"
   ]
  },
  {
   "cell_type": "code",
   "execution_count": 13,
   "metadata": {},
   "outputs": [
    {
     "data": {
      "text/plain": [
       "<matplotlib.axes._subplots.AxesSubplot at 0x1a2060c490>"
      ]
     },
     "execution_count": 13,
     "metadata": {},
     "output_type": "execute_result"
    },
    {
     "data": {
      "image/png": "[encoded data removed]",
      "text/plain": [
       "<Figure size 288x288 with 1 Axes>"
      ]
     },
     "metadata": {
      "needs_background": "light"
     },
     "output_type": "display_data"
    }
   ],
   "source": [
    "plt.figure(figsize=(4,4))\n",
    "attrition_df.boxplot(['satisfaction_level'], grid=False, fontsize=10)"
   ]
  },
  {
   "cell_type": "markdown",
   "metadata": {},
   "source": [
    "##### 3.3.3 Number of Projects"
   ]
  },
  {
   "cell_type": "code",
   "execution_count": 14,
   "metadata": {},
   "outputs": [
    {
     "data": {
      "text/plain": [
       "<matplotlib.axes._subplots.AxesSubplot at 0x1a2062f710>"
      ]
     },
     "execution_count": 14,
     "metadata": {},
     "output_type": "execute_result"
    },
    {
     "data": {
      "image/png": "[encoded data removed]",
      "text/plain": [
       "<Figure size 288x288 with 1 Axes>"
      ]
     },
     "metadata": {
      "needs_background": "light"
     },
     "output_type": "display_data"
    }
   ],
   "source": [
    "plt.figure(figsize=(4,4))\n",
    "attrition_df.boxplot(['number_project'], grid=False, fontsize=10)"
   ]
  },
  {
   "cell_type": "markdown",
   "metadata": {},
   "source": [
    "##### 3.3.4 Average Monthly Hours"
   ]
  },
  {
   "cell_type": "code",
   "execution_count": 15,
   "metadata": {},
   "outputs": [
    {
     "data": {
      "text/plain": [
       "<matplotlib.axes._subplots.AxesSubplot at 0x1a2078d0d0>"
      ]
     },
     "execution_count": 15,
     "metadata": {},
     "output_type": "execute_result"
    },
    {
     "data": {
      "image/png": "[encoded data removed]",
      "text/plain": [
       "<Figure size 288x288 with 1 Axes>"
      ]
     },
     "metadata": {
      "needs_background": "light"
     },
     "output_type": "display_data"
    }
   ],
   "source": [
    "plt.figure(figsize=(4,4))\n",
    "attrition_df.boxplot(['average_montly_hours'], grid=False, fontsize=10)"
   ]
  },
  {
   "cell_type": "markdown",
   "metadata": {},
   "source": [
    "##### 3.3.5 Time Spend in Company"
   ]
  },
  {
   "cell_type": "code",
   "execution_count": 16,
   "metadata": {},
   "outputs": [
    {
     "data": {
      "text/plain": [
       "<matplotlib.axes._subplots.AxesSubplot at 0x1a20797d90>"
      ]
     },
     "execution_count": 16,
     "metadata": {},
     "output_type": "execute_result"
    },
    {
     "data": {
      "image/png": "[encoded data removed]",
      "text/plain": [
       "<Figure size 288x288 with 1 Axes>"
      ]
     },
     "metadata": {
      "needs_background": "light"
     },
     "output_type": "display_data"
    }
   ],
   "source": [
    "plt.figure(figsize=(4,4))\n",
    "attrition_df.boxplot(['time_spend_company'], grid=False, fontsize=10)"
   ]
  },
  {
   "cell_type": "markdown",
   "metadata": {},
   "source": [
    "##### 3.3.6 Work Accident"
   ]
  },
  {
   "cell_type": "code",
   "execution_count": 17,
   "metadata": {},
   "outputs": [
    {
     "data": {
      "text/plain": [
       "<matplotlib.axes._subplots.AxesSubplot at 0x1a2087e7d0>"
      ]
     },
     "execution_count": 17,
     "metadata": {},
     "output_type": "execute_result"
    },
    {
     "data": {
      "image/png": "[encoded data removed]",
      "text/plain": [
       "<Figure size 288x288 with 1 Axes>"
      ]
     },
     "metadata": {
      "needs_background": "light"
     },
     "output_type": "display_data"
    }
   ],
   "source": [
    "plt.figure(figsize=(4,4))\n",
    "attrition_df.boxplot(['Work_accident'], grid=False, fontsize=10)"
   ]
  },
  {
   "cell_type": "markdown",
   "metadata": {},
   "source": [
    "##### 3.3.7 Left the company"
   ]
  },
  {
   "cell_type": "code",
   "execution_count": 18,
   "metadata": {},
   "outputs": [
    {
     "data": {
      "text/plain": [
       "<matplotlib.axes._subplots.AxesSubplot at 0x1a209c1710>"
      ]
     },
     "execution_count": 18,
     "metadata": {},
     "output_type": "execute_result"
    },
    {
     "data": {
      "image/png": "[encoded data removed]",
      "text/plain": [
       "<Figure size 288x288 with 1 Axes>"
      ]
     },
     "metadata": {
      "needs_background": "light"
     },
     "output_type": "display_data"
    }
   ],
   "source": [
    "plt.figure(figsize=(4,4))\n",
    "attrition_df.boxplot(['left'], grid=False, fontsize=10)"
   ]
  },
  {
   "cell_type": "markdown",
   "metadata": {},
   "source": [
    "##### 3.3.8 Promotion Last 5 Years"
   ]
  },
  {
   "cell_type": "code",
   "execution_count": 19,
   "metadata": {},
   "outputs": [
    {
     "data": {
      "text/plain": [
       "<matplotlib.axes._subplots.AxesSubplot at 0x1a20a9cd10>"
      ]
     },
     "execution_count": 19,
     "metadata": {},
     "output_type": "execute_result"
    },
    {
     "data": {
      "image/png": "[encoded data removed]",
      "text/plain": [
       "<Figure size 288x288 with 1 Axes>"
      ]
     },
     "metadata": {
      "needs_background": "light"
     },
     "output_type": "display_data"
    }
   ],
   "source": [
    "plt.figure(figsize=(4,4))\n",
    "attrition_df.boxplot(['promotion_last_5years'], grid=False, fontsize=10)"
   ]
  },
  {
   "cell_type": "markdown",
   "metadata": {},
   "source": [
    "##### There are several boolean values that contains only 0 s and 1 s. Is good to see that we dont have data points that are any other thing. "
   ]
  },
  {
   "cell_type": "markdown",
   "metadata": {},
   "source": [
    "##### After checking all the graphs we see that there is only one column presenting outliers which is the case of 'time_spend_company'. It is good to see that our boolean columns dont present  values outside of 0 s and 1 s. "
   ]
  },
  {
   "cell_type": "markdown",
   "metadata": {},
   "source": [
    "#### 3.4 Swithching from data frame running pandas to dataset to run dataset functions. "
   ]
  },
  {
   "cell_type": "code",
   "execution_count": 20,
   "metadata": {},
   "outputs": [],
   "source": [
    "attrition_ds = dataset.from_dataframe(attrition_df)\n",
    "attrition_one = attrition_ds"
   ]
  },
  {
   "cell_type": "markdown",
   "metadata": {},
   "source": [
    "##### Verifying that the change worked. Running a dataset command. "
   ]
  },
  {
   "cell_type": "code",
   "execution_count": 21,
   "metadata": {},
   "outputs": [
    {
     "data": {
      "text/html": [
       "<div>\n",
       "<style scoped>\n",
       "    .dataframe tbody tr th:only-of-type {\n",
       "        vertical-align: middle;\n",
       "    }\n",
       "\n",
       "    .dataframe tbody tr th {\n",
       "        vertical-align: top;\n",
       "    }\n",
       "\n",
       "    .dataframe thead th {\n",
       "        text-align: right;\n",
       "    }\n",
       "</style>\n",
       "<table border=\"1\" class=\"dataframe\">\n",
       "  <thead>\n",
       "    <tr style=\"text-align: right;\">\n",
       "      <th></th>\n",
       "      <th>satisfaction_level</th>\n",
       "      <th>last_evaluation</th>\n",
       "      <th>number_project</th>\n",
       "      <th>average_montly_hours</th>\n",
       "      <th>time_spend_company</th>\n",
       "      <th>Work_accident</th>\n",
       "      <th>left</th>\n",
       "      <th>promotion_last_5years</th>\n",
       "      <th>department</th>\n",
       "      <th>salary</th>\n",
       "    </tr>\n",
       "  </thead>\n",
       "  <tbody>\n",
       "    <tr>\n",
       "      <th>0</th>\n",
       "      <td>0.38</td>\n",
       "      <td>0.53</td>\n",
       "      <td>2.0</td>\n",
       "      <td>157.0</td>\n",
       "      <td>3.0</td>\n",
       "      <td>0.0</td>\n",
       "      <td>1.0</td>\n",
       "      <td>0.0</td>\n",
       "      <td>sales</td>\n",
       "      <td>low</td>\n",
       "    </tr>\n",
       "    <tr>\n",
       "      <th>1</th>\n",
       "      <td>0.80</td>\n",
       "      <td>0.86</td>\n",
       "      <td>5.0</td>\n",
       "      <td>262.0</td>\n",
       "      <td>6.0</td>\n",
       "      <td>0.0</td>\n",
       "      <td>1.0</td>\n",
       "      <td>0.0</td>\n",
       "      <td>sales</td>\n",
       "      <td>medium</td>\n",
       "    </tr>\n",
       "    <tr>\n",
       "      <th>2</th>\n",
       "      <td>0.11</td>\n",
       "      <td>0.88</td>\n",
       "      <td>7.0</td>\n",
       "      <td>272.0</td>\n",
       "      <td>4.0</td>\n",
       "      <td>0.0</td>\n",
       "      <td>1.0</td>\n",
       "      <td>0.0</td>\n",
       "      <td>sales</td>\n",
       "      <td>medium</td>\n",
       "    </tr>\n",
       "    <tr>\n",
       "      <th>3</th>\n",
       "      <td>0.72</td>\n",
       "      <td>0.87</td>\n",
       "      <td>5.0</td>\n",
       "      <td>223.0</td>\n",
       "      <td>5.0</td>\n",
       "      <td>0.0</td>\n",
       "      <td>1.0</td>\n",
       "      <td>0.0</td>\n",
       "      <td>sales</td>\n",
       "      <td>low</td>\n",
       "    </tr>\n",
       "    <tr>\n",
       "      <th>4</th>\n",
       "      <td>0.37</td>\n",
       "      <td>0.52</td>\n",
       "      <td>2.0</td>\n",
       "      <td>159.0</td>\n",
       "      <td>3.0</td>\n",
       "      <td>0.0</td>\n",
       "      <td>1.0</td>\n",
       "      <td>0.0</td>\n",
       "      <td>sales</td>\n",
       "      <td>low</td>\n",
       "    </tr>\n",
       "  </tbody>\n",
       "</table>\n",
       "</div>"
      ],
      "text/plain": [
       "   satisfaction_level  last_evaluation  number_project  average_montly_hours  \\\n",
       "0                0.38             0.53             2.0                 157.0   \n",
       "1                0.80             0.86             5.0                 262.0   \n",
       "2                0.11             0.88             7.0                 272.0   \n",
       "3                0.72             0.87             5.0                 223.0   \n",
       "4                0.37             0.52             2.0                 159.0   \n",
       "\n",
       "   time_spend_company  Work_accident  left  promotion_last_5years department  \\\n",
       "0                 3.0            0.0   1.0                    0.0      sales   \n",
       "1                 6.0            0.0   1.0                    0.0      sales   \n",
       "2                 4.0            0.0   1.0                    0.0      sales   \n",
       "3                 5.0            0.0   1.0                    0.0      sales   \n",
       "4                 3.0            0.0   1.0                    0.0      sales   \n",
       "\n",
       "   salary  \n",
       "0     low  \n",
       "1  medium  \n",
       "2  medium  \n",
       "3     low  \n",
       "4     low  "
      ]
     },
     "execution_count": 21,
     "metadata": {},
     "output_type": "execute_result"
    }
   ],
   "source": [
    "attrition_ds.features.head()"
   ]
  },
  {
   "cell_type": "markdown",
   "metadata": {},
   "source": [
    "#### 3.5 Changing Data Types. Setting numerical variables as integeres in Dataset to run further functions. \n",
    "\n",
    "##### 3.5.1 'left' Column"
   ]
  },
  {
   "cell_type": "code",
   "execution_count": 22,
   "metadata": {},
   "outputs": [
    {
     "data": {
      "text/plain": [
       "<dataset.dataset.Dataset at 0x1a20b06750>"
      ]
     },
     "execution_count": 22,
     "metadata": {},
     "output_type": "execute_result"
    }
   ],
   "source": [
    "attrition_ds.to_numerical(\"left\")"
   ]
  },
  {
   "cell_type": "code",
   "execution_count": 23,
   "metadata": {},
   "outputs": [
    {
     "data": {
      "text/plain": [
       "<dataset.dataset.Dataset at 0x1a20b06750>"
      ]
     },
     "execution_count": 23,
     "metadata": {},
     "output_type": "execute_result"
    }
   ],
   "source": [
    "attrition_ds.to_int(\"left\")"
   ]
  },
  {
   "cell_type": "markdown",
   "metadata": {},
   "source": [
    "##### 3.5.2 'Work_accident' Column"
   ]
  },
  {
   "cell_type": "code",
   "execution_count": 24,
   "metadata": {},
   "outputs": [
    {
     "data": {
      "text/plain": [
       "<dataset.dataset.Dataset at 0x1a20b06750>"
      ]
     },
     "execution_count": 24,
     "metadata": {},
     "output_type": "execute_result"
    }
   ],
   "source": [
    "attrition_ds.to_int(\"Work_accident\")"
   ]
  },
  {
   "cell_type": "markdown",
   "metadata": {},
   "source": [
    "##### 3.5.3 'promotion_last_5years' Column"
   ]
  },
  {
   "cell_type": "code",
   "execution_count": 25,
   "metadata": {},
   "outputs": [
    {
     "data": {
      "text/plain": [
       "<dataset.dataset.Dataset at 0x1a20b06750>"
      ]
     },
     "execution_count": 25,
     "metadata": {},
     "output_type": "execute_result"
    }
   ],
   "source": [
    "attrition_ds.to_int(\"promotion_last_5years\")"
   ]
  },
  {
   "cell_type": "markdown",
   "metadata": {},
   "source": [
    "#### 3.6 Setting Target Variable"
   ]
  },
  {
   "cell_type": "code",
   "execution_count": 26,
   "metadata": {},
   "outputs": [
    {
     "data": {
      "text/plain": [
       "<dataset.dataset.Dataset at 0x1a20b06750>"
      ]
     },
     "execution_count": 26,
     "metadata": {},
     "output_type": "execute_result"
    }
   ],
   "source": [
    "attrition_ds.set_target(\"left\")"
   ]
  },
  {
   "cell_type": "markdown",
   "metadata": {},
   "source": [
    "##### To verify that it worked the dataset was split into features and target. We can check that in features we dont have the 'left' column. Afterwards verify that target contains ONLY the 'left' column."
   ]
  },
  {
   "cell_type": "code",
   "execution_count": 27,
   "metadata": {},
   "outputs": [
    {
     "data": {
      "text/html": [
       "<div>\n",
       "<style scoped>\n",
       "    .dataframe tbody tr th:only-of-type {\n",
       "        vertical-align: middle;\n",
       "    }\n",
       "\n",
       "    .dataframe tbody tr th {\n",
       "        vertical-align: top;\n",
       "    }\n",
       "\n",
       "    .dataframe thead th {\n",
       "        text-align: right;\n",
       "    }\n",
       "</style>\n",
       "<table border=\"1\" class=\"dataframe\">\n",
       "  <thead>\n",
       "    <tr style=\"text-align: right;\">\n",
       "      <th></th>\n",
       "      <th>satisfaction_level</th>\n",
       "      <th>last_evaluation</th>\n",
       "      <th>number_project</th>\n",
       "      <th>average_montly_hours</th>\n",
       "      <th>time_spend_company</th>\n",
       "      <th>Work_accident</th>\n",
       "      <th>promotion_last_5years</th>\n",
       "      <th>department</th>\n",
       "      <th>salary</th>\n",
       "    </tr>\n",
       "  </thead>\n",
       "  <tbody>\n",
       "    <tr>\n",
       "      <th>0</th>\n",
       "      <td>0.38</td>\n",
       "      <td>0.53</td>\n",
       "      <td>2.0</td>\n",
       "      <td>157.0</td>\n",
       "      <td>3.0</td>\n",
       "      <td>0</td>\n",
       "      <td>0</td>\n",
       "      <td>sales</td>\n",
       "      <td>low</td>\n",
       "    </tr>\n",
       "    <tr>\n",
       "      <th>1</th>\n",
       "      <td>0.80</td>\n",
       "      <td>0.86</td>\n",
       "      <td>5.0</td>\n",
       "      <td>262.0</td>\n",
       "      <td>6.0</td>\n",
       "      <td>0</td>\n",
       "      <td>0</td>\n",
       "      <td>sales</td>\n",
       "      <td>medium</td>\n",
       "    </tr>\n",
       "    <tr>\n",
       "      <th>2</th>\n",
       "      <td>0.11</td>\n",
       "      <td>0.88</td>\n",
       "      <td>7.0</td>\n",
       "      <td>272.0</td>\n",
       "      <td>4.0</td>\n",
       "      <td>0</td>\n",
       "      <td>0</td>\n",
       "      <td>sales</td>\n",
       "      <td>medium</td>\n",
       "    </tr>\n",
       "    <tr>\n",
       "      <th>3</th>\n",
       "      <td>0.72</td>\n",
       "      <td>0.87</td>\n",
       "      <td>5.0</td>\n",
       "      <td>223.0</td>\n",
       "      <td>5.0</td>\n",
       "      <td>0</td>\n",
       "      <td>0</td>\n",
       "      <td>sales</td>\n",
       "      <td>low</td>\n",
       "    </tr>\n",
       "    <tr>\n",
       "      <th>4</th>\n",
       "      <td>0.37</td>\n",
       "      <td>0.52</td>\n",
       "      <td>2.0</td>\n",
       "      <td>159.0</td>\n",
       "      <td>3.0</td>\n",
       "      <td>0</td>\n",
       "      <td>0</td>\n",
       "      <td>sales</td>\n",
       "      <td>low</td>\n",
       "    </tr>\n",
       "  </tbody>\n",
       "</table>\n",
       "</div>"
      ],
      "text/plain": [
       "   satisfaction_level  last_evaluation  number_project  average_montly_hours  \\\n",
       "0                0.38             0.53             2.0                 157.0   \n",
       "1                0.80             0.86             5.0                 262.0   \n",
       "2                0.11             0.88             7.0                 272.0   \n",
       "3                0.72             0.87             5.0                 223.0   \n",
       "4                0.37             0.52             2.0                 159.0   \n",
       "\n",
       "   time_spend_company  Work_accident  promotion_last_5years department  salary  \n",
       "0                 3.0              0                      0      sales     low  \n",
       "1                 6.0              0                      0      sales  medium  \n",
       "2                 4.0              0                      0      sales  medium  \n",
       "3                 5.0              0                      0      sales     low  \n",
       "4                 3.0              0                      0      sales     low  "
      ]
     },
     "execution_count": 27,
     "metadata": {},
     "output_type": "execute_result"
    }
   ],
   "source": [
    "attrition_ds.features.head()"
   ]
  },
  {
   "cell_type": "code",
   "execution_count": 28,
   "metadata": {},
   "outputs": [
    {
     "data": {
      "text/plain": [
       "0    1\n",
       "1    1\n",
       "2    1\n",
       "3    1\n",
       "4    1\n",
       "Name: left, dtype: int64"
      ]
     },
     "execution_count": 28,
     "metadata": {},
     "output_type": "execute_result"
    }
   ],
   "source": [
    "attrition_ds.target.head()"
   ]
  },
  {
   "cell_type": "markdown",
   "metadata": {},
   "source": [
    "#### 3.7 Plotting histograms for all numerical columns. "
   ]
  },
  {
   "cell_type": "code",
   "execution_count": 29,
   "metadata": {},
   "outputs": [
    {
     "data": {
      "image/png": "[encoded data removed]",
      "text/plain": [
       "<Figure size 1008x216 with 4 Axes>"
      ]
     },
     "metadata": {
      "needs_background": "light"
     },
     "output_type": "display_data"
    },
    {
     "data": {
      "image/png": "[encoded data removed]",
      "text/plain": [
       "<Figure size 1008x216 with 3 Axes>"
      ]
     },
     "metadata": {
      "needs_background": "light"
     },
     "output_type": "display_data"
    }
   ],
   "source": [
    "attrition_ds.plot_histogram()"
   ]
  },
  {
   "cell_type": "markdown",
   "metadata": {},
   "source": [
    "## 4. Data Transformation"
   ]
  },
  {
   "cell_type": "markdown",
   "metadata": {},
   "source": [
    "#### 4.1 One Hot Encode Categorical Variables. "
   ]
  },
  {
   "cell_type": "code",
   "execution_count": 30,
   "metadata": {},
   "outputs": [
    {
     "data": {
      "text/plain": [
       "<dataset.dataset.Dataset at 0x1a20b06750>"
      ]
     },
     "execution_count": 30,
     "metadata": {},
     "output_type": "execute_result"
    }
   ],
   "source": [
    "attrition_ds.onehot_encode(\"salary\")"
   ]
  },
  {
   "cell_type": "code",
   "execution_count": 31,
   "metadata": {},
   "outputs": [
    {
     "data": {
      "text/plain": [
       "<dataset.dataset.Dataset at 0x1a20b06750>"
      ]
     },
     "execution_count": 31,
     "metadata": {},
     "output_type": "execute_result"
    }
   ],
   "source": [
    "attrition_ds.onehot_encode(\"department\")"
   ]
  },
  {
   "cell_type": "markdown",
   "metadata": {},
   "source": [
    "##### This onehot encoding is done because in order to run Logistic Regression we cannot have any categorical values. What it does it takes all the bins from the categorical variables and changes them into Boolean features."
   ]
  },
  {
   "cell_type": "markdown",
   "metadata": {},
   "source": [
    "##### Verify that the change took place. "
   ]
  },
  {
   "cell_type": "code",
   "execution_count": 32,
   "metadata": {},
   "outputs": [
    {
     "name": "stdout",
     "output_type": "stream",
     "text": [
      "Features Summary (all):\n",
      "'Work_accident'         : int64      Min.(0) 1stQ(0.0) Med.(0.0) Mean(0.14) 3rdQ(0.0) Max.(1)\n",
      "'average_montly_hours'  : float64    Min.(96.0) 1stQ(156.) Med.(200.) Mean(201.) 3rdQ(245.) Max.(310.)\n",
      "'last_evaluation'       : float64    Min.(0.36) 1stQ(0.56) Med.(0.72) Mean(0.71) 3rdQ(0.87) Max.(1.0)\n",
      "'number_project'        : float64    Min.(2.0) 1stQ(3.0) Med.(4.0) Mean(3.80) 3rdQ(5.0) Max.(7.0)\n",
      "'promotion_last_5years' : int64      Min.(0) 1stQ(0.0) Med.(0.0) Mean(0.02) 3rdQ(0.0) Max.(1)\n",
      "'salary_high'           : float64    Min.(0.0) 1stQ(0.0) Med.(0.0) Mean(0.08) 3rdQ(0.0) Max.(1.0)\n",
      "'salary_low'            : float64    Min.(0.0) 1stQ(0.0) Med.(0.0) Mean(0.48) 3rdQ(1.0) Max.(1.0)\n",
      "'salary_medium'         : float64    Min.(0.0) 1stQ(0.0) Med.(0.0) Mean(0.42) 3rdQ(1.0) Max.(1.0)\n",
      "'satisfaction_level'    : float64    Min.(0.09) 1stQ(0.44) Med.(0.64) Mean(0.61) 3rdQ(0.82) Max.(1.0)\n",
      "'time_spend_company'    : float64    Min.(2.0) 1stQ(3.0) Med.(3.0) Mean(3.49) 3rdQ(4.0) Max.(10.0)\n",
      "'department_RandD'      : float64    Min.(0.0) 1stQ(0.0) Med.(0.0) Mean(0.05) 3rdQ(0.0) Max.(1.0)\n",
      "'department_accounting' : float64    Min.(0.0) 1stQ(0.0) Med.(0.0) Mean(0.05) 3rdQ(0.0) Max.(1.0)\n",
      "'department_hr'         : float64    Min.(0.0) 1stQ(0.0) Med.(0.0) Mean(0.04) 3rdQ(0.0) Max.(1.0)\n",
      "'department_management' : float64    Min.(0.0) 1stQ(0.0) Med.(0.0) Mean(0.04) 3rdQ(0.0) Max.(1.0)\n",
      "'department_marketing'  : float64    Min.(0.0) 1stQ(0.0) Med.(0.0) Mean(0.05) 3rdQ(0.0) Max.(1.0)\n",
      "'department_product_mng': float64    Min.(0.0) 1stQ(0.0) Med.(0.0) Mean(0.06) 3rdQ(0.0) Max.(1.0)\n",
      "'department_sales'      : float64    Min.(0.0) 1stQ(0.0) Med.(0.0) Mean(0.27) 3rdQ(1.0) Max.(1.0)\n",
      "'department_technical'  : float64    Min.(0.0) 1stQ(0.0) Med.(0.0) Mean(0.41) 3rdQ(1.0) Max.(1.0)\n",
      "'left'                  : int64      Min.(0) 1stQ(0.0) Med.(0.0) Mean(0.23) 3rdQ(0.0) Max.(1)\n"
     ]
    }
   ],
   "source": [
    "attrition_ds.summary()"
   ]
  },
  {
   "cell_type": "markdown",
   "metadata": {},
   "source": [
    "## 5. Baseline"
   ]
  },
  {
   "cell_type": "code",
   "execution_count": 33,
   "metadata": {},
   "outputs": [],
   "source": [
    "attrition_fs = attrition_ds"
   ]
  },
  {
   "cell_type": "markdown",
   "metadata": {},
   "source": [
    "#### Logistic Regression --> Accuracy, F1, Cross Validation."
   ]
  },
  {
   "cell_type": "code",
   "execution_count": 34,
   "metadata": {},
   "outputs": [
    {
     "name": "stdout",
     "output_type": "stream",
     "text": [
      "F1 Score: 0.38851674641148326\n",
      "\n",
      "              precision    recall  f1-score   support\n",
      "\n",
      "           0       0.82      0.94      0.87      2308\n",
      "           1       0.58      0.29      0.39       692\n",
      "\n",
      "    accuracy                           0.79      3000\n",
      "   macro avg       0.70      0.61      0.63      3000\n",
      "weighted avg       0.76      0.79      0.76      3000\n",
      "\n"
     ]
    }
   ],
   "source": [
    "from sklearn.metrics import accuracy_score, f1_score, recall_score, matthews_corrcoef, classification_report\n",
    "\n",
    "X,y = attrition_ds.split(test_size=0.2)\n",
    "\n",
    "clf_baseline = LogisticRegression().fit(X.train, y.train)\n",
    "pred_baseline = clf_baseline.predict(X.test)\n",
    "\n",
    "\n",
    "print('F1 Score:', f1_score(y.test, pred_baseline,))\n",
    "print (\"\")\n",
    "print(classification_report(y.test,pred_baseline))"
   ]
  },
  {
   "cell_type": "markdown",
   "metadata": {},
   "source": [
    "## 6. 1st Attempt"
   ]
  },
  {
   "cell_type": "markdown",
   "metadata": {},
   "source": [
    "#### 6.1 Removing Outliers."
   ]
  },
  {
   "cell_type": "code",
   "execution_count": 35,
   "metadata": {},
   "outputs": [
    {
     "data": {
      "text/plain": [
       "array([   52,   168,   221,   226,   233,   237,   281,   355,   439,\n",
       "         486,   579,   598,   674,   678,   723,   744,   897,   947,\n",
       "         951,   975,   986,  1036,  1059,  1125,  1213,  1268,  1321,\n",
       "        1335,  1460,  1469,  1788,  1794,  1808,  1810,  1883,  1913,\n",
       "        1923,  1953,  2166,  2504,  3014,  3497,  3741,  4396,  4450,\n",
       "        4633,  5019,  5151,  5229,  5314,  5413,  5490,  5586,  5662,\n",
       "        5915,  6626,  6668,  7088,  7235,  7552,  7564,  7989,  8310,\n",
       "        8434,  8589,  9155,  9193,  9204,  9289,  9423,  9580,  9842,\n",
       "       10111, 10267, 10409, 10438, 11195, 11231, 11309, 11507, 11611,\n",
       "       11725, 11745, 11754, 11760, 11764, 12052, 12168, 12221, 12226,\n",
       "       12233, 12237, 12281, 12355, 12439, 12486, 12579, 12598, 12674,\n",
       "       12678, 12723, 12744, 13406, 13442, 13520, 13718, 13822, 13936,\n",
       "       13956, 13965, 13971, 13975, 14263, 14379, 14432, 14437, 14444,\n",
       "       14448, 14492, 14566, 14650, 14697, 14790, 14809, 14919, 14949,\n",
       "       14959, 14989])"
      ]
     },
     "execution_count": 35,
     "metadata": {},
     "output_type": "execute_result"
    }
   ],
   "source": [
    "attrition_ds.outliers()"
   ]
  },
  {
   "cell_type": "code",
   "execution_count": 36,
   "metadata": {},
   "outputs": [
    {
     "data": {
      "text/plain": [
       "<dataset.dataset.Dataset at 0x1a20b06750>"
      ]
     },
     "execution_count": 36,
     "metadata": {},
     "output_type": "execute_result"
    }
   ],
   "source": [
    "attrition_ds.drop_samples(attrition_ds.outliers())"
   ]
  },
  {
   "cell_type": "markdown",
   "metadata": {},
   "source": [
    "#### 6.2 Feature Selection\n",
    "##### We run this to see which are the features that impact the regression the most. To visualize the most important variables. "
   ]
  },
  {
   "cell_type": "code",
   "execution_count": 37,
   "metadata": {},
   "outputs": [
    {
     "data": {
      "text/plain": [
       "{'promotion_last_5years': 0.00489543406630351,\n",
       " 'department_product_mng': 0.006546298164212159,\n",
       " 'department_marketing': 0.009653015937058593,\n",
       " 'department_RandD': 0.011535875193329038,\n",
       " 'department_management': 0.012366350615291363,\n",
       " 'department_accounting': 0.013314504740770379,\n",
       " 'department_hr': 0.024161118956357797,\n",
       " 'Work_accident': 0.027324994956627706,\n",
       " 'salary_high': 0.04256943043507485,\n",
       " 'last_evaluation': 0.058570004118754716,\n",
       " 'department_sales': 0.07136709030999894,\n",
       " 'average_montly_hours': 0.07184793900440983,\n",
       " 'satisfaction_level': 0.0789523233138328,\n",
       " 'salary_medium': 0.09607625579987941,\n",
       " 'department_technical': 0.10694976800484193,\n",
       " 'salary_low': 0.11296483087889306,\n",
       " 'number_project': 0.27777217402999166,\n",
       " 'time_spend_company': 0.33987626924887615}"
      ]
     },
     "execution_count": 37,
     "metadata": {},
     "output_type": "execute_result"
    }
   ],
   "source": [
    "attrition_ds.features_importance()"
   ]
  },
  {
   "cell_type": "code",
   "execution_count": 38,
   "metadata": {},
   "outputs": [
    {
     "data": {
      "image/png": "[encoded data removed]",
      "text/plain": [
       "<Figure size 576x576 with 1 Axes>"
      ]
     },
     "metadata": {
      "needs_background": "light"
     },
     "output_type": "display_data"
    }
   ],
   "source": [
    "attrition_ds.plot_importance()"
   ]
  },
  {
   "cell_type": "markdown",
   "metadata": {},
   "source": [
    "#### 6.3 Drop Columns\n",
    "##### Some departments seem to be carrying no weight to the overall model so the columns will be dropped. The department that are going to be droppped are Product Management, Marketing, Management, Human Resources, Accounting and RandD. \n",
    "##### A decision was taken to keep Sales and Technical departments since they have a higher importance."
   ]
  },
  {
   "cell_type": "code",
   "execution_count": 39,
   "metadata": {},
   "outputs": [
    {
     "data": {
      "text/plain": [
       "<dataset.dataset.Dataset at 0x1a20b06750>"
      ]
     },
     "execution_count": 39,
     "metadata": {},
     "output_type": "execute_result"
    }
   ],
   "source": [
    "attrition_ds.drop_columns('department_hr')\n",
    "attrition_ds.drop_columns('department_RandD')\n",
    "attrition_ds.drop_columns('department_marketing')\n",
    "attrition_ds.drop_columns('department_accounting')\n",
    "attrition_ds.drop_columns('department_product_mng')\n",
    "attrition_ds.drop_columns('department_management')\n",
    "attrition_ds.drop_columns('promotion_last_5years')"
   ]
  },
  {
   "cell_type": "markdown",
   "metadata": {},
   "source": [
    "#### 6.5 Checking and fixing Skewness"
   ]
  },
  {
   "cell_type": "code",
   "execution_count": 40,
   "metadata": {},
   "outputs": [
    {
     "data": {
      "text/plain": [
       "salary_high             3.042848\n",
       "Work_accident           2.021325\n",
       "time_spend_company      1.830374\n",
       "department_sales        0.995212\n",
       "department_technical    0.364878\n",
       "number_project          0.333217\n",
       "salary_medium           0.273796\n",
       "salary_low              0.057451\n",
       "average_montly_hours    0.041269\n",
       "last_evaluation        -0.034869\n",
       "satisfaction_level     -0.487070\n",
       "dtype: float64"
      ]
     },
     "execution_count": 40,
     "metadata": {},
     "output_type": "execute_result"
    }
   ],
   "source": [
    "attrition_ds.skewed_features()"
   ]
  },
  {
   "cell_type": "markdown",
   "metadata": {},
   "source": [
    "#### Fixing Skewness"
   ]
  },
  {
   "cell_type": "code",
   "execution_count": 41,
   "metadata": {},
   "outputs": [],
   "source": [
    "attrition_ds.fix_skewness()"
   ]
  },
  {
   "cell_type": "markdown",
   "metadata": {},
   "source": [
    "#### 6.5 Scaling"
   ]
  },
  {
   "cell_type": "code",
   "execution_count": 42,
   "metadata": {},
   "outputs": [
    {
     "data": {
      "text/plain": [
       "<dataset.dataset.Dataset at 0x1a20b06750>"
      ]
     },
     "execution_count": 42,
     "metadata": {},
     "output_type": "execute_result"
    }
   ],
   "source": [
    "attrition_ds.scale(method='MinMaxScaler')"
   ]
  },
  {
   "cell_type": "markdown",
   "metadata": {},
   "source": [
    "#### 6.6 2nd Run"
   ]
  },
  {
   "cell_type": "code",
   "execution_count": 43,
   "metadata": {},
   "outputs": [
    {
     "data": {
      "text/plain": [
       "<dataset.dataset.Dataset at 0x1a20b06750>"
      ]
     },
     "execution_count": 43,
     "metadata": {},
     "output_type": "execute_result"
    }
   ],
   "source": [
    "attrition_ds.unset_target()"
   ]
  },
  {
   "cell_type": "code",
   "execution_count": 44,
   "metadata": {},
   "outputs": [
    {
     "data": {
      "text/plain": [
       "<dataset.dataset.Dataset at 0x1a20b06750>"
      ]
     },
     "execution_count": 44,
     "metadata": {},
     "output_type": "execute_result"
    }
   ],
   "source": [
    "attrition_ds.set_target('left')"
   ]
  },
  {
   "cell_type": "code",
   "execution_count": 45,
   "metadata": {},
   "outputs": [
    {
     "name": "stdout",
     "output_type": "stream",
     "text": [
      "**Cross Validation**\n",
      "F1 weighted: 0.7812 (+/- 0.02)\n",
      "F1: 0.4834 (+/- 0.04)\n",
      "\n",
      "Classification Report:\n",
      "               precision    recall  f1-score   support\n",
      "\n",
      "           0       0.83      0.91      0.87      2265\n",
      "           1       0.58      0.40      0.47       710\n",
      "\n",
      "    accuracy                           0.79      2975\n",
      "   macro avg       0.70      0.65      0.67      2975\n",
      "weighted avg       0.77      0.79      0.77      2975\n",
      "\n"
     ]
    }
   ],
   "source": [
    "X, y = attrition_ds.split(test_size= 0.20)\n",
    "\n",
    "\n",
    "t_base = LogisticRegression().fit(X.train, y.train)\n",
    "p_base = t_base.predict(X.test)\n",
    "\n",
    "model_chosen = LogisticRegression()\n",
    "\n",
    "print (\"**Cross Validation**\")\n",
    "\n",
    "crossval_score = cross_val_score(model_chosen, X.train, y.train, scoring = 'f1_weighted', cv=30)\n",
    "print (\"F1 weighted: %0.4f (+/- %0.2f)\" % (np.median(crossval_score),np.std(crossval_score)))\n",
    "\n",
    "crossval_score = cross_val_score(model_chosen, X.train, y.train, scoring=\"f1\", cv=30)\n",
    "print (\"F1: %0.4f (+/- %0.2f)\" % (np.median(crossval_score),np.std(crossval_score)))\n",
    "\n",
    "print(\"\")\n",
    "print (\"Classification Report:\\n\", classification_report(y.test, p_base))"
   ]
  },
  {
   "cell_type": "markdown",
   "metadata": {},
   "source": [
    "## 7. 2nd Attempt"
   ]
  },
  {
   "cell_type": "markdown",
   "metadata": {},
   "source": [
    "#### 7.1 Reloading the database to its original setup. "
   ]
  },
  {
   "cell_type": "code",
   "execution_count": 77,
   "metadata": {},
   "outputs": [],
   "source": [
    "attrition_df = pd.read_csv('turnover.csv')\n",
    "attrition_df = attrition_df.rename(columns = {'sales':'department'})\n",
    "attrition_2T = dataset.from_dataframe(attrition_df)"
   ]
  },
  {
   "cell_type": "code",
   "execution_count": 78,
   "metadata": {},
   "outputs": [
    {
     "name": "stdout",
     "output_type": "stream",
     "text": [
      "Features Summary (all):\n",
      "'satisfaction_level'   : float64    Min.(0.09) 1stQ(0.44) Med.(0.64) Mean(0.61) 3rdQ(0.82) Max.(1.0)\n",
      "'last_evaluation'      : float64    Min.(0.36) 1stQ(0.56) Med.(0.72) Mean(0.71) 3rdQ(0.87) Max.(1.0)\n",
      "'number_project'       : float64    Min.(2.0) 1stQ(3.0) Med.(4.0) Mean(3.80) 3rdQ(5.0) Max.(7.0)\n",
      "'average_montly_hours' : float64    Min.(96.0) 1stQ(156.) Med.(200.) Mean(201.) 3rdQ(245.) Max.(310.)\n",
      "'time_spend_company'   : float64    Min.(2.0) 1stQ(3.0) Med.(3.0) Mean(3.49) 3rdQ(4.0) Max.(10.0)\n",
      "'Work_accident'        : float64    Min.(0.0) 1stQ(0.0) Med.(0.0) Mean(0.14) 3rdQ(0.0) Max.(1.0)\n",
      "'left'                 : float64    Min.(0.0) 1stQ(0.0) Med.(0.0) Mean(0.23) 3rdQ(0.0) Max.(1.0)\n",
      "'promotion_last_5years': float64    Min.(0.0) 1stQ(0.0) Med.(0.0) Mean(0.02) 3rdQ(0.0) Max.(1.0)\n",
      "'department'           : object     10 categs. 'sales'(4140, 0.2760) 'accounting'(2720, 0.1813) 'hr'(2229, 0.1486) 'technical'(1227, 0.0818) ...\n",
      "'salary'               : object     3 categs. 'low'(7316, 0.4878) 'medium'(6446, 0.4298) 'high'(1237, 0.0825) \n"
     ]
    }
   ],
   "source": [
    "attrition_2T.summary()"
   ]
  },
  {
   "cell_type": "markdown",
   "metadata": {},
   "source": [
    "#### 7.4 Onehot Encoding categorical variables."
   ]
  },
  {
   "cell_type": "code",
   "execution_count": 79,
   "metadata": {},
   "outputs": [
    {
     "data": {
      "text/plain": [
       "<dataset.dataset.Dataset at 0x1a20a10d10>"
      ]
     },
     "execution_count": 79,
     "metadata": {},
     "output_type": "execute_result"
    }
   ],
   "source": [
    "attrition_2T.onehot_encode('department')"
   ]
  },
  {
   "cell_type": "code",
   "execution_count": 80,
   "metadata": {},
   "outputs": [
    {
     "data": {
      "text/plain": [
       "<dataset.dataset.Dataset at 0x1a20a10d10>"
      ]
     },
     "execution_count": 80,
     "metadata": {},
     "output_type": "execute_result"
    }
   ],
   "source": [
    "attrition_2T.onehot_encode('salary')"
   ]
  },
  {
   "cell_type": "markdown",
   "metadata": {},
   "source": [
    "#### 7.5 Discretize numerical variables."
   ]
  },
  {
   "cell_type": "code",
   "execution_count": 81,
   "metadata": {},
   "outputs": [
    {
     "data": {
      "text/plain": [
       "<dataset.dataset.Dataset at 0x1a20a10d10>"
      ]
     },
     "execution_count": 81,
     "metadata": {},
     "output_type": "execute_result"
    }
   ],
   "source": [
    "attrition_2T.discretize(\"last_evaluation\",[(0.36, 0.56),(0.56, 0.72),(0.72, 0.87),(0.87,1)], \n",
    "                   category_names=['low', 'medium', 'high','excelent'])"
   ]
  },
  {
   "cell_type": "code",
   "execution_count": 82,
   "metadata": {},
   "outputs": [
    {
     "data": {
      "text/plain": [
       "<dataset.dataset.Dataset at 0x1a20a10d10>"
      ]
     },
     "execution_count": 82,
     "metadata": {},
     "output_type": "execute_result"
    }
   ],
   "source": [
    "attrition_2T.discretize(\"number_project\",[(2, 3),(3, 5),(5, 7),(7,10)], \n",
    "                   category_names=['low', 'medium', 'high','very_high'])"
   ]
  },
  {
   "cell_type": "code",
   "execution_count": 83,
   "metadata": {},
   "outputs": [
    {
     "data": {
      "text/plain": [
       "<dataset.dataset.Dataset at 0x1a20a10d10>"
      ]
     },
     "execution_count": 83,
     "metadata": {},
     "output_type": "execute_result"
    }
   ],
   "source": [
    "attrition_2T.discretize(\"satisfaction_level\",[(0.09, 0.44),(0.44, 0.61),(0.61, 0.82),(0.82,1)], \n",
    "                   category_names=['low', 'medium', 'high','very_high'])"
   ]
  },
  {
   "cell_type": "code",
   "execution_count": 84,
   "metadata": {},
   "outputs": [
    {
     "data": {
      "text/plain": [
       "<dataset.dataset.Dataset at 0x1a20a10d10>"
      ]
     },
     "execution_count": 84,
     "metadata": {},
     "output_type": "execute_result"
    }
   ],
   "source": [
    "attrition_2T.discretize(\"time_spend_company\",[(2, 3),(3, 5),(5, 10)], \n",
    "                   category_names=['low', 'medium', 'high'])"
   ]
  },
  {
   "cell_type": "code",
   "execution_count": 85,
   "metadata": {},
   "outputs": [
    {
     "data": {
      "text/plain": [
       "<dataset.dataset.Dataset at 0x1a20a10d10>"
      ]
     },
     "execution_count": 85,
     "metadata": {},
     "output_type": "execute_result"
    }
   ],
   "source": [
    "attrition_2T.discretize(\"average_montly_hours\",[(96, 156),(156, 201),(201, 245),(245,310)], \n",
    "                   category_names=['low', 'medium', 'high','very_high'])"
   ]
  },
  {
   "cell_type": "markdown",
   "metadata": {},
   "source": [
    "#### 7.6 Onehot Encode discretized variables"
   ]
  },
  {
   "cell_type": "code",
   "execution_count": 86,
   "metadata": {},
   "outputs": [
    {
     "data": {
      "text/plain": [
       "<dataset.dataset.Dataset at 0x1a20a10d10>"
      ]
     },
     "execution_count": 86,
     "metadata": {},
     "output_type": "execute_result"
    }
   ],
   "source": [
    "attrition_2T.onehot_encode('average_montly_hours')"
   ]
  },
  {
   "cell_type": "code",
   "execution_count": 87,
   "metadata": {},
   "outputs": [
    {
     "data": {
      "text/plain": [
       "<dataset.dataset.Dataset at 0x1a20a10d10>"
      ]
     },
     "execution_count": 87,
     "metadata": {},
     "output_type": "execute_result"
    }
   ],
   "source": [
    "attrition_2T.onehot_encode('number_project')"
   ]
  },
  {
   "cell_type": "code",
   "execution_count": 88,
   "metadata": {},
   "outputs": [
    {
     "data": {
      "text/plain": [
       "<dataset.dataset.Dataset at 0x1a20a10d10>"
      ]
     },
     "execution_count": 88,
     "metadata": {},
     "output_type": "execute_result"
    }
   ],
   "source": [
    "attrition_2T.onehot_encode('satisfaction_level')"
   ]
  },
  {
   "cell_type": "code",
   "execution_count": 89,
   "metadata": {},
   "outputs": [
    {
     "data": {
      "text/plain": [
       "<dataset.dataset.Dataset at 0x1a20a10d10>"
      ]
     },
     "execution_count": 89,
     "metadata": {},
     "output_type": "execute_result"
    }
   ],
   "source": [
    "attrition_2T.onehot_encode('time_spend_company')"
   ]
  },
  {
   "cell_type": "code",
   "execution_count": 90,
   "metadata": {},
   "outputs": [
    {
     "data": {
      "text/plain": [
       "<dataset.dataset.Dataset at 0x1a20a10d10>"
      ]
     },
     "execution_count": 90,
     "metadata": {},
     "output_type": "execute_result"
    }
   ],
   "source": [
    "attrition_2T.onehot_encode('last_evaluation')"
   ]
  },
  {
   "cell_type": "markdown",
   "metadata": {},
   "source": [
    "#### 7.7 Check if everything worked"
   ]
  },
  {
   "cell_type": "code",
   "execution_count": 91,
   "metadata": {},
   "outputs": [
    {
     "name": "stdout",
     "output_type": "stream",
     "text": [
      "Features Summary (all):\n",
      "'Work_accident'                 : float64    Min.(0.0) 1stQ(0.0) Med.(0.0) Mean(0.14) 3rdQ(0.0) Max.(1.0)\n",
      "'average_montly_hours_high'     : float64    Min.(0.0) 1stQ(0.0) Med.(0.0) Mean(0.24) 3rdQ(0.0) Max.(1.0)\n",
      "'average_montly_hours_low'      : float64    Min.(0.0) 1stQ(0.0) Med.(0.0) Mean(0.25) 3rdQ(1.0) Max.(1.0)\n",
      "'average_montly_hours_medium'   : float64    Min.(0.0) 1stQ(0.0) Med.(0.0) Mean(0.25) 3rdQ(1.0) Max.(1.0)\n",
      "'average_montly_hours_very_high': float64    Min.(0.0) 1stQ(0.0) Med.(0.0) Mean(0.24) 3rdQ(0.0) Max.(1.0)\n",
      "'department_IT'                 : float64    Min.(0.0) 1stQ(0.0) Med.(0.0) Mean(0.08) 3rdQ(0.0) Max.(1.0)\n",
      "'department_RandD'              : float64    Min.(0.0) 1stQ(0.0) Med.(0.0) Mean(0.05) 3rdQ(0.0) Max.(1.0)\n",
      "'department_accounting'         : float64    Min.(0.0) 1stQ(0.0) Med.(0.0) Mean(0.05) 3rdQ(0.0) Max.(1.0)\n",
      "'department_hr'                 : float64    Min.(0.0) 1stQ(0.0) Med.(0.0) Mean(0.04) 3rdQ(0.0) Max.(1.0)\n",
      "'department_management'         : float64    Min.(0.0) 1stQ(0.0) Med.(0.0) Mean(0.04) 3rdQ(0.0) Max.(1.0)\n",
      "'department_marketing'          : float64    Min.(0.0) 1stQ(0.0) Med.(0.0) Mean(0.05) 3rdQ(0.0) Max.(1.0)\n",
      "'department_product_mng'        : float64    Min.(0.0) 1stQ(0.0) Med.(0.0) Mean(0.06) 3rdQ(0.0) Max.(1.0)\n",
      "'department_sales'              : float64    Min.(0.0) 1stQ(0.0) Med.(0.0) Mean(0.27) 3rdQ(1.0) Max.(1.0)\n",
      "'department_support'            : float64    Min.(0.0) 1stQ(0.0) Med.(0.0) Mean(0.14) 3rdQ(0.0) Max.(1.0)\n",
      "'department_technical'          : float64    Min.(0.0) 1stQ(0.0) Med.(0.0) Mean(0.18) 3rdQ(0.0) Max.(1.0)\n",
      "'left'                          : float64    Min.(0.0) 1stQ(0.0) Med.(0.0) Mean(0.23) 3rdQ(0.0) Max.(1.0)\n",
      "'number_project_high'           : float64    Min.(0.0) 1stQ(0.0) Med.(0.0) Mean(0.09) 3rdQ(0.0) Max.(1.0)\n",
      "'number_project_low'            : float64    Min.(0.0) 1stQ(0.0) Med.(0.0) Mean(0.27) 3rdQ(1.0) Max.(1.0)\n",
      "'number_project_medium'         : float64    Min.(0.0) 1stQ(0.0) Med.(0.0) Mean(0.47) 3rdQ(1.0) Max.(1.0)\n",
      "'number_project_very_high'      : float64    Min.(0.0) 1stQ(0.0) Med.(0.0) Mean(0.0) 3rdQ(0.0) Max.(0.0)\n",
      "'promotion_last_5years'         : float64    Min.(0.0) 1stQ(0.0) Med.(0.0) Mean(0.02) 3rdQ(0.0) Max.(1.0)\n",
      "'salary_high'                   : float64    Min.(0.0) 1stQ(0.0) Med.(0.0) Mean(0.08) 3rdQ(0.0) Max.(1.0)\n",
      "'salary_low'                    : float64    Min.(0.0) 1stQ(0.0) Med.(0.0) Mean(0.48) 3rdQ(1.0) Max.(1.0)\n",
      "'salary_medium'                 : float64    Min.(0.0) 1stQ(0.0) Med.(0.0) Mean(0.42) 3rdQ(1.0) Max.(1.0)\n",
      "'satisfaction_level_high'       : float64    Min.(0.0) 1stQ(0.0) Med.(0.0) Mean(0.30) 3rdQ(1.0) Max.(1.0)\n",
      "'satisfaction_level_low'        : float64    Min.(0.0) 1stQ(0.0) Med.(0.0) Mean(0.24) 3rdQ(0.0) Max.(1.0)\n",
      "'satisfaction_level_medium'     : float64    Min.(0.0) 1stQ(0.0) Med.(0.0) Mean(0.20) 3rdQ(0.0) Max.(1.0)\n",
      "'satisfaction_level_very_high'  : float64    Min.(0.0) 1stQ(0.0) Med.(0.0) Mean(0.23) 3rdQ(0.0) Max.(1.0)\n",
      "'time_spend_company_high'       : float64    Min.(0.0) 1stQ(0.0) Med.(0.0) Mean(0.08) 3rdQ(0.0) Max.(1.0)\n",
      "'time_spend_company_low'        : float64    Min.(0.0) 1stQ(0.0) Med.(0.0) Mean(0.42) 3rdQ(1.0) Max.(1.0)\n",
      "'time_spend_company_medium'     : float64    Min.(0.0) 1stQ(0.0) Med.(0.0) Mean(0.26) 3rdQ(1.0) Max.(1.0)\n",
      "'last_evaluation_low'           : float64    Min.(0.0) 1stQ(0.0) Med.(0.0) Mean(0.26) 3rdQ(1.0) Max.(1.0)\n",
      "'last_evaluation_medium'        : float64    Min.(0.0) 1stQ(0.0) Med.(0.0) Mean(0.24) 3rdQ(0.0) Max.(1.0)\n",
      "'last_evaluation_high'          : float64    Min.(0.0) 1stQ(0.0) Med.(0.0) Mean(0.25) 3rdQ(1.0) Max.(1.0)\n",
      "'last_evaluation_excelent'      : float64    Min.(0.0) 1stQ(0.0) Med.(0.0) Mean(0.23) 3rdQ(0.0) Max.(1.0)\n"
     ]
    }
   ],
   "source": [
    "attrition_2T.summary()"
   ]
  },
  {
   "cell_type": "markdown",
   "metadata": {},
   "source": [
    "#### 7.8 Feature Importance"
   ]
  },
  {
   "cell_type": "code",
   "execution_count": 92,
   "metadata": {},
   "outputs": [
    {
     "data": {
      "text/plain": [
       "<dataset.dataset.Dataset at 0x1a20a10d10>"
      ]
     },
     "execution_count": 92,
     "metadata": {},
     "output_type": "execute_result"
    }
   ],
   "source": [
    "attrition_2T.set_target('left')"
   ]
  },
  {
   "cell_type": "code",
   "execution_count": 62,
   "metadata": {},
   "outputs": [
    {
     "data": {
      "text/plain": [
       "{'number_project_very_high': 0.0,\n",
       " 'department_product_mng': 0.0003033535569038141,\n",
       " 'promotion_last_5years': 0.001593439562637509,\n",
       " 'department_marketing': 0.002120141342756177,\n",
       " 'department_accounting': 0.0034868991266084337,\n",
       " 'department_IT': 0.004423628241882826,\n",
       " 'department_RandD': 0.005603706913794286,\n",
       " 'department_management': 0.007197146476431757,\n",
       " 'department_hr': 0.008510567371157978,\n",
       " 'department_support': 0.016154410294019688,\n",
       " 'department_technical': 0.018957930528702167,\n",
       " 'department_sales': 0.021754783652243172,\n",
       " 'salary_medium': 0.026785119007934195,\n",
       " 'Work_accident': 0.02758183878925172,\n",
       " 'salary_high': 0.029501966797786296,\n",
       " 'salary_low': 0.041992799519967566,\n",
       " 'time_spend_company_high': 0.04578305220348029,\n",
       " 'number_project_high': 0.048363224214947396,\n",
       " 'last_evaluation_high': 0.05933062204146994,\n",
       " 'satisfaction_level_medium': 0.06725781718781297,\n",
       " 'average_montly_hours_high': 0.06960130675378341,\n",
       " 'average_montly_hours_medium': 0.07565171011400777,\n",
       " 'average_montly_hours_low': 0.0757950530035343,\n",
       " 'satisfaction_level_very_high': 0.07705847056470562,\n",
       " 'average_montly_hours_very_high': 0.08091872791519442,\n",
       " 'satisfaction_level_high': 0.08203213547569915,\n",
       " 'last_evaluation_medium': 0.0820521368091217,\n",
       " 'last_evaluation_low': 0.08698579905327197,\n",
       " 'last_evaluation_excelent': 0.08953263550903375,\n",
       " 'satisfaction_level_low': 0.12397159810653978,\n",
       " 'time_spend_company_low': 0.13419894659643902,\n",
       " 'number_project_medium': 0.1595606373758232,\n",
       " 'number_project_low': 0.17721514767651095,\n",
       " 'time_spend_company_medium': 0.18421228081871896}"
      ]
     },
     "execution_count": 62,
     "metadata": {},
     "output_type": "execute_result"
    }
   ],
   "source": [
    "attrition_2T.features_importance()"
   ]
  },
  {
   "cell_type": "code",
   "execution_count": 63,
   "metadata": {},
   "outputs": [
    {
     "data": {
      "image/png": "[encoded data removed]",
      "text/plain": [
       "<Figure size 576x576 with 1 Axes>"
      ]
     },
     "metadata": {
      "needs_background": "light"
     },
     "output_type": "display_data"
    }
   ],
   "source": [
    "attrition_2T.plot_importance()"
   ]
  },
  {
   "cell_type": "markdown",
   "metadata": {},
   "source": [
    "#### 7.9 Run the Model"
   ]
  },
  {
   "cell_type": "code",
   "execution_count": 93,
   "metadata": {},
   "outputs": [
    {
     "name": "stdout",
     "output_type": "stream",
     "text": [
      "**Cross Validation**\n",
      "F1 weighted: 0.8898 (+/- 0.02)\n",
      "F1: 0.7673 (+/- 0.04)\n",
      "\n",
      "Classification Report:\n",
      "               precision    recall  f1-score   support\n",
      "\n",
      "         0.0       0.92      0.95      0.93      2308\n",
      "         1.0       0.80      0.73      0.77       692\n",
      "\n",
      "    accuracy                           0.90      3000\n",
      "   macro avg       0.86      0.84      0.85      3000\n",
      "weighted avg       0.89      0.90      0.90      3000\n",
      "\n"
     ]
    }
   ],
   "source": [
    "X, y = attrition_2T.split(test_size= 0.20)\n",
    "\n",
    "\n",
    "t_base = LogisticRegression().fit(X.train, y.train)\n",
    "p_base = t_base.predict(X.test)\n",
    "\n",
    "model_chosen = LogisticRegression()\n",
    "\n",
    "print (\"**Cross Validation**\")\n",
    "\n",
    "crossval_score = cross_val_score(model_chosen, X.train, y.train, scoring = 'f1_weighted', cv=30)\n",
    "print (\"F1 weighted: %0.4f (+/- %0.2f)\" % (np.median(crossval_score),np.std(crossval_score)))\n",
    "\n",
    "crossval_score = cross_val_score(model_chosen, X.train, y.train, scoring=\"f1\", cv=30)\n",
    "print (\"F1: %0.4f (+/- %0.2f)\" % (np.median(crossval_score),np.std(crossval_score)))\n",
    "\n",
    "print(\"\")\n",
    "print (\"Classification Report:\\n\", classification_report(y.test, p_base))"
   ]
  },
  {
   "cell_type": "markdown",
   "metadata": {},
   "source": [
    "#### 7.10 Skewness"
   ]
  },
  {
   "cell_type": "code",
   "execution_count": 94,
   "metadata": {},
   "outputs": [
    {
     "data": {
      "text/plain": [
       "promotion_last_5years             6.636305\n",
       "department_management             4.566375\n",
       "department_hr                     4.165113\n",
       "department_accounting             4.075451\n",
       "department_RandD                  4.014203\n",
       "department_marketing              3.813401\n",
       "department_product_mng            3.700350\n",
       "department_IT                     3.051756\n",
       "salary_high                       3.035653\n",
       "time_spend_company_high           2.965324\n",
       "number_project_high               2.755757\n",
       "Work_accident                     2.020947\n",
       "department_support                1.975747\n",
       "department_technical              1.654042\n",
       "satisfaction_level_medium         1.473073\n",
       "last_evaluation_excelent          1.252527\n",
       "satisfaction_level_very_high      1.242920\n",
       "last_evaluation_medium            1.185703\n",
       "satisfaction_level_low            1.179431\n",
       "average_montly_hours_very_high    1.179014\n",
       "average_montly_hours_high         1.176097\n",
       "average_montly_hours_medium       1.143552\n",
       "average_montly_hours_low          1.123303\n",
       "last_evaluation_high              1.103711\n",
       "last_evaluation_low               1.091441\n",
       "time_spend_company_medium         1.043664\n",
       "number_project_low                1.034124\n",
       "department_sales                  1.002097\n",
       "satisfaction_level_high           0.865508\n",
       "time_spend_company_low            0.284590\n",
       "salary_medium                     0.283766\n",
       "number_project_medium             0.099730\n",
       "salary_low                        0.048951\n",
       "number_project_very_high          0.000000\n",
       "dtype: float64"
      ]
     },
     "execution_count": 94,
     "metadata": {},
     "output_type": "execute_result"
    }
   ],
   "source": [
    "attrition_2T.skewed_features()"
   ]
  },
  {
   "cell_type": "code",
   "execution_count": 95,
   "metadata": {},
   "outputs": [],
   "source": [
    "attrition_2T.fix_skewness()"
   ]
  },
  {
   "cell_type": "markdown",
   "metadata": {},
   "source": [
    "#### 7.11 Drop Column that was 0"
   ]
  },
  {
   "cell_type": "code",
   "execution_count": 96,
   "metadata": {},
   "outputs": [
    {
     "data": {
      "text/plain": [
       "<dataset.dataset.Dataset at 0x1a20a10d10>"
      ]
     },
     "execution_count": 96,
     "metadata": {},
     "output_type": "execute_result"
    }
   ],
   "source": [
    "attrition_2T.drop_columns(\"number_project_very_high\")"
   ]
  },
  {
   "cell_type": "markdown",
   "metadata": {},
   "source": [
    "##### The column was dropped because it presented no values within the bin. It was all zeros. "
   ]
  },
  {
   "cell_type": "markdown",
   "metadata": {},
   "source": [
    "#### 7.12 Scaling"
   ]
  },
  {
   "cell_type": "code",
   "execution_count": 97,
   "metadata": {},
   "outputs": [
    {
     "data": {
      "text/plain": [
       "<dataset.dataset.Dataset at 0x1a20a10d10>"
      ]
     },
     "execution_count": 97,
     "metadata": {},
     "output_type": "execute_result"
    }
   ],
   "source": [
    "attrition_2T.scale(method='MinMaxScaler')"
   ]
  },
  {
   "cell_type": "markdown",
   "metadata": {},
   "source": [
    "##### The scaling is run to set up all the values on a scale from 0 to 1. This is run after fixing the skewness to make sure you dont have negative values and the distribution is normalized. \n",
    "##### Both tests Skewness and Scaling help to normalize the value in the data set"
   ]
  },
  {
   "cell_type": "markdown",
   "metadata": {},
   "source": [
    "#### 7.13 Re run the Model"
   ]
  },
  {
   "cell_type": "code",
   "execution_count": 98,
   "metadata": {},
   "outputs": [
    {
     "name": "stdout",
     "output_type": "stream",
     "text": [
      "**Cross Validation**\n",
      "F1 weighted: 0.8898 (+/- 0.02)\n",
      "F1: 0.7673 (+/- 0.04)\n",
      "\n",
      "Classification Report:\n",
      "               precision    recall  f1-score   support\n",
      "\n",
      "         0.0       0.92      0.95      0.93      2308\n",
      "         1.0       0.80      0.73      0.77       692\n",
      "\n",
      "    accuracy                           0.90      3000\n",
      "   macro avg       0.86      0.84      0.85      3000\n",
      "weighted avg       0.89      0.90      0.90      3000\n",
      "\n"
     ]
    }
   ],
   "source": [
    "X, y = attrition_2T.split(test_size= 0.20)\n",
    "\n",
    "\n",
    "t_base = LogisticRegression().fit(X.train, y.train)\n",
    "p_base = t_base.predict(X.test)\n",
    "\n",
    "model_chosen = LogisticRegression()\n",
    "\n",
    "print (\"**Cross Validation**\")\n",
    "\n",
    "crossval_score = cross_val_score(model_chosen, X.train, y.train, scoring = 'f1_weighted', cv=30)\n",
    "print (\"F1 weighted: %0.4f (+/- %0.2f)\" % (np.median(crossval_score),np.std(crossval_score)))\n",
    "\n",
    "crossval_score = cross_val_score(model_chosen, X.train, y.train, scoring=\"f1\", cv=30)\n",
    "print (\"F1: %0.4f (+/- %0.2f)\" % (np.median(crossval_score),np.std(crossval_score)))\n",
    "\n",
    "print(\"\")\n",
    "print (\"Classification Report:\\n\", classification_report(y.test, p_base))"
   ]
  },
  {
   "cell_type": "markdown",
   "metadata": {},
   "source": [
    "#### 7.14 Drop Columns that have little effect on the model. "
   ]
  },
  {
   "cell_type": "code",
   "execution_count": 71,
   "metadata": {},
   "outputs": [
    {
     "data": {
      "image/png": "[encoded data removed]",
      "text/plain": [
       "<Figure size 576x576 with 1 Axes>"
      ]
     },
     "metadata": {
      "needs_background": "light"
     },
     "output_type": "display_data"
    }
   ],
   "source": [
    "attrition_2T.plot_importance()"
   ]
  },
  {
   "cell_type": "code",
   "execution_count": 99,
   "metadata": {},
   "outputs": [],
   "source": [
    "attrition_2T_a = attrition_2T"
   ]
  },
  {
   "cell_type": "code",
   "execution_count": 100,
   "metadata": {},
   "outputs": [
    {
     "data": {
      "text/plain": [
       "<dataset.dataset.Dataset at 0x1a20a10d10>"
      ]
     },
     "execution_count": 100,
     "metadata": {},
     "output_type": "execute_result"
    }
   ],
   "source": [
    "attrition_2T_a.drop_columns(\"department_product_mng\")\n",
    "attrition_2T_a.drop_columns(\"department_marketing\")\n",
    "attrition_2T_a.drop_columns(\"department_accounting\")\n",
    "attrition_2T_a.drop_columns(\"department_IT\")\n",
    "attrition_2T_a.drop_columns(\"department_RandD\")\n",
    "attrition_2T_a.drop_columns(\"department_management\")\n",
    "attrition_2T_a.drop_columns(\"department_hr\")"
   ]
  },
  {
   "cell_type": "markdown",
   "metadata": {},
   "source": [
    "##### 7.15 Re run the Model"
   ]
  },
  {
   "cell_type": "code",
   "execution_count": 101,
   "metadata": {},
   "outputs": [
    {
     "name": "stdout",
     "output_type": "stream",
     "text": [
      "**Cross Validation**\n",
      "F1 weighted: 0.8906 (+/- 0.02)\n",
      "F1: 0.7697 (+/- 0.04)\n",
      "\n",
      "Classification Report:\n",
      "               precision    recall  f1-score   support\n",
      "\n",
      "         0.0       0.92      0.94      0.93      2308\n",
      "         1.0       0.79      0.72      0.75       692\n",
      "\n",
      "    accuracy                           0.89      3000\n",
      "   macro avg       0.85      0.83      0.84      3000\n",
      "weighted avg       0.89      0.89      0.89      3000\n",
      "\n"
     ]
    }
   ],
   "source": [
    "X, y = attrition_2T_a.split(test_size= 0.20)\n",
    "\n",
    "\n",
    "t_base = LogisticRegression().fit(X.train, y.train)\n",
    "p_base = t_base.predict(X.test)\n",
    "\n",
    "model_chosen = LogisticRegression()\n",
    "\n",
    "print (\"**Cross Validation**\")\n",
    "\n",
    "crossval_score = cross_val_score(model_chosen, X.train, y.train, scoring = 'f1_weighted', cv=30)\n",
    "print (\"F1 weighted: %0.4f (+/- %0.2f)\" % (np.median(crossval_score),np.std(crossval_score)))\n",
    "\n",
    "crossval_score = cross_val_score(model_chosen, X.train, y.train, scoring=\"f1\", cv=30)\n",
    "print (\"F1: %0.4f (+/- %0.2f)\" % (np.median(crossval_score),np.std(crossval_score)))\n",
    "\n",
    "print(\"\")\n",
    "print (\"Classification Report:\\n\", classification_report(y.test, p_base))"
   ]
  },
  {
   "cell_type": "markdown",
   "metadata": {},
   "source": [
    "#### 7.16 Drop all the columns below the 0.05 threshold. "
   ]
  },
  {
   "cell_type": "code",
   "execution_count": 102,
   "metadata": {},
   "outputs": [
    {
     "data": {
      "text/plain": [
       "<dataset.dataset.Dataset at 0x1a20a10d10>"
      ]
     },
     "execution_count": 102,
     "metadata": {},
     "output_type": "execute_result"
    }
   ],
   "source": [
    "attrition_2T_a.drop_columns(\"department_support\")\n",
    "attrition_2T_a.drop_columns(\"department_technical\")\n",
    "attrition_2T_a.drop_columns(\"department_sales\")\n",
    "attrition_2T_a.drop_columns(\"salary_low\")\n",
    "attrition_2T_a.drop_columns(\"salary_high\")\n",
    "attrition_2T_a.drop_columns(\"salary_medium\")\n",
    "attrition_2T_a.drop_columns(\"Work_accident\")\n",
    "attrition_2T_a.drop_columns(\"time_spend_company_high\")\n",
    "attrition_2T_a.drop_columns(\"number_project_high\")"
   ]
  },
  {
   "cell_type": "markdown",
   "metadata": {},
   "source": [
    "#### 7.17 Remove outliers"
   ]
  },
  {
   "cell_type": "code",
   "execution_count": 103,
   "metadata": {},
   "outputs": [
    {
     "data": {
      "text/plain": [
       "<dataset.dataset.Dataset at 0x1a20a10d10>"
      ]
     },
     "execution_count": 103,
     "metadata": {},
     "output_type": "execute_result"
    }
   ],
   "source": [
    "attrition_2T.drop_samples(attrition_2T.outliers())"
   ]
  },
  {
   "cell_type": "markdown",
   "metadata": {},
   "source": [
    "#### 7.18 Re run the Model"
   ]
  },
  {
   "cell_type": "code",
   "execution_count": 104,
   "metadata": {},
   "outputs": [
    {
     "name": "stdout",
     "output_type": "stream",
     "text": [
      "**Cross Validation**\n",
      "F1 weighted: 0.8888 (+/- 0.02)\n",
      "F1: 0.7842 (+/- 0.03)\n",
      "\n",
      "Classification Report:\n",
      "               precision    recall  f1-score   support\n",
      "\n",
      "         0.0       0.92      0.94      0.93      1840\n",
      "         1.0       0.85      0.78      0.81       734\n",
      "\n",
      "    accuracy                           0.90      2574\n",
      "   macro avg       0.88      0.86      0.87      2574\n",
      "weighted avg       0.90      0.90      0.90      2574\n",
      "\n"
     ]
    }
   ],
   "source": [
    "X, y = attrition_2T_a.split(test_size= 0.20)\n",
    "\n",
    "\n",
    "t_base = LogisticRegression().fit(X.train, y.train)\n",
    "p_base = t_base.predict(X.test)\n",
    "\n",
    "model_chosen = LogisticRegression()\n",
    "\n",
    "print (\"**Cross Validation**\")\n",
    "\n",
    "crossval_score = cross_val_score(model_chosen, X.train, y.train, scoring = 'f1_weighted', cv=30)\n",
    "print (\"F1 weighted: %0.4f (+/- %0.2f)\" % (np.median(crossval_score),np.std(crossval_score)))\n",
    "\n",
    "crossval_score = cross_val_score(model_chosen, X.train, y.train, scoring=\"f1\", cv=30)\n",
    "print (\"F1: %0.4f (+/- %0.2f)\" % (np.median(crossval_score),np.std(crossval_score)))\n",
    "\n",
    "print(\"\")\n",
    "print (\"Classification Report:\\n\", classification_report(y.test, p_base))"
   ]
  },
  {
   "cell_type": "markdown",
   "metadata": {},
   "source": [
    "## 8. Final Score"
   ]
  },
  {
   "cell_type": "markdown",
   "metadata": {},
   "source": [
    "#### F1 --> 0.89\n",
    "#### F1 weighted --> 0.78\n",
    "#### Accuracy --> 0.90\n",
    "#### Predicting \"0\" , people staying --> Precision = 0.92 , Recall = 0.94 , F1 Score = 0.93\n",
    "#### Predicting \"1\" , people leaving --> Precision = 0.85 , Recall = 0.78 , F1 Score = 0.81"
   ]
  },
  {
   "cell_type": "markdown",
   "metadata": {},
   "source": [
    "## 9. Interpretation"
   ]
  },
  {
   "cell_type": "markdown",
   "metadata": {},
   "source": [
    "#### During the EDA observations could be made about our dataset. This dataset presented a great skewness toward zeros, this meaning people staying within the company. The people that left the company represented a very small sample of the people, this makes the analysis complicated because you have to normalize the approach as much as possible in order to run the Logistic Regression. \n",
    "#### The Boxplot section is designed to search for outliers within each of the numerical variables that are present in the dataset. The only feature that presented outliers was Time Spend in Company. This is due to the very few people that have worked within the company for a long time. \n",
    "#### After the boxplots the process continues with the assignation of the target, in this case is the \"left\" feature. This is regarding the people that leave the company. Once this is set the next step is to plot the histograms to see the distributions. Looking at the distributions a inference can me made that most of them dont have a normal behaviour and further analysis should be done on them. \n",
    "#### Before making any modifications a reference score is needed with the data untreated. That score is the baseline. That presents an F1 score of 0.39. \n",
    "#### Now that the baseline was obtained further data preparation is needed to improve that baseline. Some steps were followed to get a 2nd score. First performance of a removal of outliers after this step feature importance was performed in order to remove the features that carried no wieght towards a person leaving the company. The next steps are about fixing the noramlization problem that was identified in the Data Transformation. Skewness correction was called to normalize the data after this step the variables were scaled so the result of this would be variables with data points between zeros and ones. The second test was run obtaining an F1 score of 0.48. This was a 10% improvement, this is due because the data was normalized before the re run. This shows the importance of having a normal distribution while running a Logistic Regression. \n",
    "#### Another attempt was made trying to get a better prediction of the people leaving the company. During this second try several actions were performed. The first action was to discretize the numerical variables and bin them to a set of key words based on their value. After onehot encoding was performed making all the variables previously binned now features based on their keywords and initial feature name. This provided an extenden layout of features moving from 10 features to above 30 features. This could be adjusted based on the binned values to make more or less features. the desicion was made to bin them in 4 categories ranging from low to very high. \n",
    "#### With the 30+ features now created and previously learnt the value of having a normalized dataset skewness and scaling tasks were performed. Following this tests Feature selection was realized carrying out feature importance. Based on a feature importance threshold of 0.05 all features that didnt comply with this were eliminated. In the end 14 features represented the variables that had the most importane towards a person making the decions to leave or to stay. The final step before running the model was getting rid of outliers that would skew the results. \n",
    "#### The 2nd attempt was concluded getting the final score previously stated in this document. The interpretation for the final score can be made as follows. The F1 metric of the model shows that there is a 93% chance of correctly predicting a person staying in the company and there is a 81% chance of predicting a person leaving the company. This discrepancy between data is due towards the biased of the dataset. Further metrics can be interpreted which are the precision and the recall values. The precision is a metric that is the ratio of correctly predicted positive observations to the total predicted positive observations. This states that of all the people leaving or staying in a company we can predict 85% and 92% respectively. The recall is the ratio of correctly predicted positive observations to the all observations in actual class. This states that out of all the people we predicted were going to leave how many people actually left or stayed depending on the case. The results for the recall matrix are 94% and 78% for people staying and leaving respectively. \n"
   ]
  }
 ],
 "metadata": {
  "kernelspec": {
   "display_name": "Python 3",
   "language": "python",
   "name": "python3"
  },
  "language_info": {
   "codemirror_mode": {
    "name": "ipython",
    "version": 3
   },
   "file_extension": ".py",
   "mimetype": "text/x-python",
   "name": "python",
   "nbconvert_exporter": "python",
   "pygments_lexer": "ipython3",
   "version": "3.7.4"
  }
 },
 "nbformat": 4,
 "nbformat_minor": 2
}
