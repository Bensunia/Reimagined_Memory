{
 "cells": [
  {
   "cell_type": "code",
   "execution_count": 1,
   "metadata": {},
   "outputs": [],
   "source": [
    "import pandas as pd\n",
    "import numpy as np"
   ]
  },
  {
   "cell_type": "markdown",
   "metadata": {},
   "source": [
    "## Question 1 Open the dataset as a pandas DataFrame named imdb"
   ]
  },
  {
   "cell_type": "code",
   "execution_count": 2,
   "metadata": {},
   "outputs": [
    {
     "data": {
      "text/html": [
       "<div>\n",
       "<style scoped>\n",
       "    .dataframe tbody tr th:only-of-type {\n",
       "        vertical-align: middle;\n",
       "    }\n",
       "\n",
       "    .dataframe tbody tr th {\n",
       "        vertical-align: top;\n",
       "    }\n",
       "\n",
       "    .dataframe thead th {\n",
       "        text-align: right;\n",
       "    }\n",
       "</style>\n",
       "<table border=\"1\" class=\"dataframe\">\n",
       "  <thead>\n",
       "    <tr style=\"text-align: right;\">\n",
       "      <th></th>\n",
       "      <th>index</th>\n",
       "      <th>tconst</th>\n",
       "      <th>titleType</th>\n",
       "      <th>primaryTitle</th>\n",
       "      <th>originalTitle</th>\n",
       "      <th>isAdult</th>\n",
       "      <th>startYear</th>\n",
       "      <th>endYear</th>\n",
       "      <th>runtimeMinutes</th>\n",
       "      <th>genres</th>\n",
       "    </tr>\n",
       "  </thead>\n",
       "  <tbody>\n",
       "    <tr>\n",
       "      <th>0</th>\n",
       "      <td>87501.0</td>\n",
       "      <td>tt0089435</td>\n",
       "      <td>short</td>\n",
       "      <td>Kokoa</td>\n",
       "      <td>Kokoa</td>\n",
       "      <td>0.0</td>\n",
       "      <td>2019.0</td>\n",
       "      <td>NaN</td>\n",
       "      <td>13.0</td>\n",
       "      <td>NaN</td>\n",
       "    </tr>\n",
       "    <tr>\n",
       "      <th>1</th>\n",
       "      <td>89512.0</td>\n",
       "      <td>tt0091490</td>\n",
       "      <td>short</td>\n",
       "      <td>Martina's Playhouse</td>\n",
       "      <td>Martina's Playhouse</td>\n",
       "      <td>0.0</td>\n",
       "      <td>2019.0</td>\n",
       "      <td>NaN</td>\n",
       "      <td>20.0</td>\n",
       "      <td>NaN</td>\n",
       "    </tr>\n",
       "    <tr>\n",
       "      <th>2</th>\n",
       "      <td>114407.0</td>\n",
       "      <td>tt0116991</td>\n",
       "      <td>movie</td>\n",
       "      <td>Mariette in Ecstasy</td>\n",
       "      <td>Mariette in Ecstasy</td>\n",
       "      <td>0.0</td>\n",
       "      <td>2019.0</td>\n",
       "      <td>NaN</td>\n",
       "      <td>NaN</td>\n",
       "      <td>NaN</td>\n",
       "    </tr>\n",
       "    <tr>\n",
       "      <th>3</th>\n",
       "      <td>126556.0</td>\n",
       "      <td>tt0129960</td>\n",
       "      <td>tvMovie</td>\n",
       "      <td>Eine geschlossene Gesellschaft</td>\n",
       "      <td>Eine geschlossene Gesellschaft</td>\n",
       "      <td>0.0</td>\n",
       "      <td>2019.0</td>\n",
       "      <td>NaN</td>\n",
       "      <td>NaN</td>\n",
       "      <td>NaN</td>\n",
       "    </tr>\n",
       "    <tr>\n",
       "      <th>4</th>\n",
       "      <td>166388.0</td>\n",
       "      <td>tt0172112</td>\n",
       "      <td>short</td>\n",
       "      <td>Ambulans</td>\n",
       "      <td>Ambulans</td>\n",
       "      <td>0.0</td>\n",
       "      <td>2019.0</td>\n",
       "      <td>NaN</td>\n",
       "      <td>11.0</td>\n",
       "      <td>NaN</td>\n",
       "    </tr>\n",
       "  </tbody>\n",
       "</table>\n",
       "</div>"
      ],
      "text/plain": [
       "      index     tconst titleType                    primaryTitle  \\\n",
       "0   87501.0  tt0089435     short                           Kokoa   \n",
       "1   89512.0  tt0091490     short             Martina's Playhouse   \n",
       "2  114407.0  tt0116991     movie             Mariette in Ecstasy   \n",
       "3  126556.0  tt0129960   tvMovie  Eine geschlossene Gesellschaft   \n",
       "4  166388.0  tt0172112     short                        Ambulans   \n",
       "\n",
       "                    originalTitle  isAdult  startYear  endYear  \\\n",
       "0                           Kokoa      0.0     2019.0      NaN   \n",
       "1             Martina's Playhouse      0.0     2019.0      NaN   \n",
       "2             Mariette in Ecstasy      0.0     2019.0      NaN   \n",
       "3  Eine geschlossene Gesellschaft      0.0     2019.0      NaN   \n",
       "4                        Ambulans      0.0     2019.0      NaN   \n",
       "\n",
       "   runtimeMinutes  genres  \n",
       "0            13.0     NaN  \n",
       "1            20.0     NaN  \n",
       "2             NaN     NaN  \n",
       "3             NaN     NaN  \n",
       "4            11.0     NaN  "
      ]
     },
     "execution_count": 2,
     "metadata": {},
     "output_type": "execute_result"
    }
   ],
   "source": [
    "imdb = pd.read_csv(\"imdb_2019.tsv\", sep='\\t')\n",
    "imdb.head()"
   ]
  },
  {
   "cell_type": "markdown",
   "metadata": {},
   "source": [
    "# Question 2 How many types of titles are there in the column titleType? No for loops allowed! Check pandas.unique, pandas.Series.value_counts, set"
   ]
  },
  {
   "cell_type": "code",
   "execution_count": 3,
   "metadata": {},
   "outputs": [
    {
     "data": {
      "text/plain": [
       "array(['short', 'movie', 'tvMovie', 'video', 'tvSeries', 'tvEpisode',\n",
       "       'tvMiniSeries', 'tvSpecial', 'videoGame', 'tvShort'], dtype=object)"
      ]
     },
     "execution_count": 3,
     "metadata": {},
     "output_type": "execute_result"
    }
   ],
   "source": [
    "imdb[('titleType')].unique()"
   ]
  },
  {
   "cell_type": "code",
   "execution_count": 4,
   "metadata": {},
   "outputs": [
    {
     "data": {
      "text/plain": [
       "10"
      ]
     },
     "execution_count": 4,
     "metadata": {},
     "output_type": "execute_result"
    }
   ],
   "source": [
    "len(imdb[('titleType')].unique())"
   ]
  },
  {
   "cell_type": "code",
   "execution_count": 5,
   "metadata": {},
   "outputs": [
    {
     "data": {
      "text/plain": [
       "tvEpisode       225972\n",
       "short            35351\n",
       "movie            15640\n",
       "video            10450\n",
       "tvSeries          7154\n",
       "tvMovie           2431\n",
       "tvMiniSeries      2000\n",
       "tvSpecial         1306\n",
       "videoGame          884\n",
       "tvShort            151\n",
       "Name: titleType, dtype: int64"
      ]
     },
     "execution_count": 5,
     "metadata": {},
     "output_type": "execute_result"
    }
   ],
   "source": [
    "imdb.titleType.value_counts()"
   ]
  },
  {
   "cell_type": "code",
   "execution_count": 6,
   "metadata": {},
   "outputs": [
    {
     "data": {
      "text/html": [
       "<div>\n",
       "<style scoped>\n",
       "    .dataframe tbody tr th:only-of-type {\n",
       "        vertical-align: middle;\n",
       "    }\n",
       "\n",
       "    .dataframe tbody tr th {\n",
       "        vertical-align: top;\n",
       "    }\n",
       "\n",
       "    .dataframe thead th {\n",
       "        text-align: right;\n",
       "    }\n",
       "</style>\n",
       "<table border=\"1\" class=\"dataframe\">\n",
       "  <thead>\n",
       "    <tr style=\"text-align: right;\">\n",
       "      <th></th>\n",
       "      <th>titleType</th>\n",
       "    </tr>\n",
       "  </thead>\n",
       "  <tbody>\n",
       "    <tr>\n",
       "      <th>tvEpisode</th>\n",
       "      <td>225972</td>\n",
       "    </tr>\n",
       "    <tr>\n",
       "      <th>short</th>\n",
       "      <td>35351</td>\n",
       "    </tr>\n",
       "    <tr>\n",
       "      <th>movie</th>\n",
       "      <td>15640</td>\n",
       "    </tr>\n",
       "    <tr>\n",
       "      <th>video</th>\n",
       "      <td>10450</td>\n",
       "    </tr>\n",
       "    <tr>\n",
       "      <th>tvSeries</th>\n",
       "      <td>7154</td>\n",
       "    </tr>\n",
       "    <tr>\n",
       "      <th>tvMovie</th>\n",
       "      <td>2431</td>\n",
       "    </tr>\n",
       "    <tr>\n",
       "      <th>tvMiniSeries</th>\n",
       "      <td>2000</td>\n",
       "    </tr>\n",
       "    <tr>\n",
       "      <th>tvSpecial</th>\n",
       "      <td>1306</td>\n",
       "    </tr>\n",
       "    <tr>\n",
       "      <th>videoGame</th>\n",
       "      <td>884</td>\n",
       "    </tr>\n",
       "    <tr>\n",
       "      <th>tvShort</th>\n",
       "      <td>151</td>\n",
       "    </tr>\n",
       "  </tbody>\n",
       "</table>\n",
       "</div>"
      ],
      "text/plain": [
       "              titleType\n",
       "tvEpisode        225972\n",
       "short             35351\n",
       "movie             15640\n",
       "video             10450\n",
       "tvSeries           7154\n",
       "tvMovie            2431\n",
       "tvMiniSeries       2000\n",
       "tvSpecial          1306\n",
       "videoGame           884\n",
       "tvShort             151"
      ]
     },
     "execution_count": 6,
     "metadata": {},
     "output_type": "execute_result"
    }
   ],
   "source": [
    "imdb[('titleType')].value_counts().to_frame()"
   ]
  },
  {
   "cell_type": "markdown",
   "metadata": {},
   "source": [
    "### ANSWER : 10 different types of titles for column 'titleType'"
   ]
  },
  {
   "cell_type": "markdown",
   "metadata": {},
   "source": [
    "## Question 3 Create a slice of imdb that only contains the following columns:  titleType, primaryTitle, startYear, runtimeMinutes"
   ]
  },
  {
   "cell_type": "code",
   "execution_count": 7,
   "metadata": {},
   "outputs": [
    {
     "data": {
      "text/html": [
       "<div>\n",
       "<style scoped>\n",
       "    .dataframe tbody tr th:only-of-type {\n",
       "        vertical-align: middle;\n",
       "    }\n",
       "\n",
       "    .dataframe tbody tr th {\n",
       "        vertical-align: top;\n",
       "    }\n",
       "\n",
       "    .dataframe thead th {\n",
       "        text-align: right;\n",
       "    }\n",
       "</style>\n",
       "<table border=\"1\" class=\"dataframe\">\n",
       "  <thead>\n",
       "    <tr style=\"text-align: right;\">\n",
       "      <th></th>\n",
       "      <th>titleType</th>\n",
       "      <th>primaryTitle</th>\n",
       "      <th>startYear</th>\n",
       "      <th>runtimeMinutes</th>\n",
       "    </tr>\n",
       "  </thead>\n",
       "  <tbody>\n",
       "    <tr>\n",
       "      <th>301334</th>\n",
       "      <td>tvEpisode</td>\n",
       "      <td>Talent Coaching with IMOR's Bianca Desmore Mit...</td>\n",
       "      <td>2019.0</td>\n",
       "      <td>NaN</td>\n",
       "    </tr>\n",
       "    <tr>\n",
       "      <th>301335</th>\n",
       "      <td>tvEpisode</td>\n",
       "      <td>Escape</td>\n",
       "      <td>2019.0</td>\n",
       "      <td>NaN</td>\n",
       "    </tr>\n",
       "    <tr>\n",
       "      <th>301336</th>\n",
       "      <td>tvEpisode</td>\n",
       "      <td>Tinne Oltmans</td>\n",
       "      <td>2019.0</td>\n",
       "      <td>NaN</td>\n",
       "    </tr>\n",
       "    <tr>\n",
       "      <th>301337</th>\n",
       "      <td>tvEpisode</td>\n",
       "      <td>Luc Janssens</td>\n",
       "      <td>2019.0</td>\n",
       "      <td>NaN</td>\n",
       "    </tr>\n",
       "    <tr>\n",
       "      <th>301338</th>\n",
       "      <td>tvEpisode</td>\n",
       "      <td>Danira Boukhriss Terkessidis</td>\n",
       "      <td>2019.0</td>\n",
       "      <td>NaN</td>\n",
       "    </tr>\n",
       "  </tbody>\n",
       "</table>\n",
       "</div>"
      ],
      "text/plain": [
       "        titleType                                       primaryTitle  \\\n",
       "301334  tvEpisode  Talent Coaching with IMOR's Bianca Desmore Mit...   \n",
       "301335  tvEpisode                                             Escape   \n",
       "301336  tvEpisode                                      Tinne Oltmans   \n",
       "301337  tvEpisode                                       Luc Janssens   \n",
       "301338  tvEpisode                       Danira Boukhriss Terkessidis   \n",
       "\n",
       "        startYear  runtimeMinutes  \n",
       "301334     2019.0             NaN  \n",
       "301335     2019.0             NaN  \n",
       "301336     2019.0             NaN  \n",
       "301337     2019.0             NaN  \n",
       "301338     2019.0             NaN  "
      ]
     },
     "execution_count": 7,
     "metadata": {},
     "output_type": "execute_result"
    }
   ],
   "source": [
    "imdb_slice = imdb[['titleType','primaryTitle','startYear','runtimeMinutes']]\n",
    "imdb_slice.tail()"
   ]
  },
  {
   "cell_type": "markdown",
   "metadata": {},
   "source": [
    "## Question 4 Create a subset of imdb named tvEpisodes_2019 that only includes the type tvEpisodes"
   ]
  },
  {
   "cell_type": "code",
   "execution_count": 8,
   "metadata": {},
   "outputs": [
    {
     "data": {
      "text/html": [
       "<div>\n",
       "<style scoped>\n",
       "    .dataframe tbody tr th:only-of-type {\n",
       "        vertical-align: middle;\n",
       "    }\n",
       "\n",
       "    .dataframe tbody tr th {\n",
       "        vertical-align: top;\n",
       "    }\n",
       "\n",
       "    .dataframe thead th {\n",
       "        text-align: right;\n",
       "    }\n",
       "</style>\n",
       "<table border=\"1\" class=\"dataframe\">\n",
       "  <thead>\n",
       "    <tr style=\"text-align: right;\">\n",
       "      <th></th>\n",
       "      <th>index</th>\n",
       "      <th>tconst</th>\n",
       "      <th>titleType</th>\n",
       "      <th>primaryTitle</th>\n",
       "      <th>originalTitle</th>\n",
       "      <th>isAdult</th>\n",
       "      <th>startYear</th>\n",
       "      <th>endYear</th>\n",
       "      <th>runtimeMinutes</th>\n",
       "      <th>genres</th>\n",
       "    </tr>\n",
       "  </thead>\n",
       "  <tbody>\n",
       "    <tr>\n",
       "      <th>21</th>\n",
       "      <td>758955.0</td>\n",
       "      <td>tt0782666</td>\n",
       "      <td>tvEpisode</td>\n",
       "      <td>Save the Duckling!</td>\n",
       "      <td>Save the Duckling!</td>\n",
       "      <td>0.0</td>\n",
       "      <td>2019.0</td>\n",
       "      <td>NaN</td>\n",
       "      <td>NaN</td>\n",
       "      <td>NaN</td>\n",
       "    </tr>\n",
       "    <tr>\n",
       "      <th>30</th>\n",
       "      <td>969426.0</td>\n",
       "      <td>tt10001058</td>\n",
       "      <td>tvEpisode</td>\n",
       "      <td>Le grand saut</td>\n",
       "      <td>Le grand saut</td>\n",
       "      <td>0.0</td>\n",
       "      <td>2019.0</td>\n",
       "      <td>NaN</td>\n",
       "      <td>51.0</td>\n",
       "      <td>NaN</td>\n",
       "    </tr>\n",
       "    <tr>\n",
       "      <th>32</th>\n",
       "      <td>969458.0</td>\n",
       "      <td>tt10001110</td>\n",
       "      <td>tvEpisode</td>\n",
       "      <td>The Interviews</td>\n",
       "      <td>The Interviews</td>\n",
       "      <td>0.0</td>\n",
       "      <td>2019.0</td>\n",
       "      <td>NaN</td>\n",
       "      <td>NaN</td>\n",
       "      <td>NaN</td>\n",
       "    </tr>\n",
       "    <tr>\n",
       "      <th>34</th>\n",
       "      <td>969464.0</td>\n",
       "      <td>tt10001120</td>\n",
       "      <td>tvEpisode</td>\n",
       "      <td>The New Guy</td>\n",
       "      <td>The New Guy</td>\n",
       "      <td>0.0</td>\n",
       "      <td>2019.0</td>\n",
       "      <td>NaN</td>\n",
       "      <td>NaN</td>\n",
       "      <td>NaN</td>\n",
       "    </tr>\n",
       "    <tr>\n",
       "      <th>35</th>\n",
       "      <td>969465.0</td>\n",
       "      <td>tt10001122</td>\n",
       "      <td>tvEpisode</td>\n",
       "      <td>The New Girl</td>\n",
       "      <td>The New Girl</td>\n",
       "      <td>0.0</td>\n",
       "      <td>2019.0</td>\n",
       "      <td>NaN</td>\n",
       "      <td>NaN</td>\n",
       "      <td>NaN</td>\n",
       "    </tr>\n",
       "  </tbody>\n",
       "</table>\n",
       "</div>"
      ],
      "text/plain": [
       "       index      tconst  titleType        primaryTitle       originalTitle  \\\n",
       "21  758955.0   tt0782666  tvEpisode  Save the Duckling!  Save the Duckling!   \n",
       "30  969426.0  tt10001058  tvEpisode       Le grand saut       Le grand saut   \n",
       "32  969458.0  tt10001110  tvEpisode      The Interviews      The Interviews   \n",
       "34  969464.0  tt10001120  tvEpisode         The New Guy         The New Guy   \n",
       "35  969465.0  tt10001122  tvEpisode        The New Girl        The New Girl   \n",
       "\n",
       "    isAdult  startYear  endYear  runtimeMinutes  genres  \n",
       "21      0.0     2019.0      NaN             NaN     NaN  \n",
       "30      0.0     2019.0      NaN            51.0     NaN  \n",
       "32      0.0     2019.0      NaN             NaN     NaN  \n",
       "34      0.0     2019.0      NaN             NaN     NaN  \n",
       "35      0.0     2019.0      NaN             NaN     NaN  "
      ]
     },
     "execution_count": 8,
     "metadata": {},
     "output_type": "execute_result"
    }
   ],
   "source": [
    "tvEpisodes_2019 = imdb[(imdb['titleType'] == 'tvEpisode')]\n",
    "tvEpisodes_2019.head()"
   ]
  },
  {
   "cell_type": "code",
   "execution_count": 9,
   "metadata": {},
   "outputs": [
    {
     "data": {
      "text/plain": [
       "tvEpisode    225972\n",
       "Name: titleType, dtype: int64"
      ]
     },
     "execution_count": 9,
     "metadata": {},
     "output_type": "execute_result"
    }
   ],
   "source": [
    "## checking if it worked. \n",
    "tvEpisodes_2019.titleType.value_counts()"
   ]
  },
  {
   "cell_type": "markdown",
   "metadata": {},
   "source": [
    "## Question 5 Percentage of adult films over total releases in 2019. Check pd.Series.mean\n"
   ]
  },
  {
   "cell_type": "code",
   "execution_count": 10,
   "metadata": {},
   "outputs": [
    {
     "data": {
      "text/plain": [
       "0.0    292394\n",
       "1.0      8945\n",
       "Name: isAdult, dtype: int64"
      ]
     },
     "execution_count": 10,
     "metadata": {},
     "output_type": "execute_result"
    }
   ],
   "source": [
    "imdb.isAdult.value_counts()"
   ]
  },
  {
   "cell_type": "code",
   "execution_count": 11,
   "metadata": {},
   "outputs": [
    {
     "data": {
      "text/plain": [
       "0.029684176293144928"
      ]
     },
     "execution_count": 11,
     "metadata": {},
     "output_type": "execute_result"
    }
   ],
   "source": [
    "imdb.isAdult.mean()"
   ]
  },
  {
   "cell_type": "markdown",
   "metadata": {},
   "source": [
    "### Answer: 2.9% of the movies are Adult Films. "
   ]
  },
  {
   "cell_type": "markdown",
   "metadata": {},
   "source": [
    "## Question 6 Create a column named words_in_title that contains the total number of words in the title. Use map alongside a function or a lambda function.\n"
   ]
  },
  {
   "cell_type": "code",
   "execution_count": 13,
   "metadata": {},
   "outputs": [
    {
     "data": {
      "text/html": [
       "<div>\n",
       "<style scoped>\n",
       "    .dataframe tbody tr th:only-of-type {\n",
       "        vertical-align: middle;\n",
       "    }\n",
       "\n",
       "    .dataframe tbody tr th {\n",
       "        vertical-align: top;\n",
       "    }\n",
       "\n",
       "    .dataframe thead th {\n",
       "        text-align: right;\n",
       "    }\n",
       "</style>\n",
       "<table border=\"1\" class=\"dataframe\">\n",
       "  <thead>\n",
       "    <tr style=\"text-align: right;\">\n",
       "      <th></th>\n",
       "      <th>index</th>\n",
       "      <th>tconst</th>\n",
       "      <th>titleType</th>\n",
       "      <th>primaryTitle</th>\n",
       "      <th>originalTitle</th>\n",
       "      <th>isAdult</th>\n",
       "      <th>startYear</th>\n",
       "      <th>endYear</th>\n",
       "      <th>runtimeMinutes</th>\n",
       "      <th>genres</th>\n",
       "      <th>words_in_title</th>\n",
       "    </tr>\n",
       "  </thead>\n",
       "  <tbody>\n",
       "    <tr>\n",
       "      <th>0</th>\n",
       "      <td>87501.0</td>\n",
       "      <td>tt0089435</td>\n",
       "      <td>short</td>\n",
       "      <td>Kokoa</td>\n",
       "      <td>Kokoa</td>\n",
       "      <td>0.0</td>\n",
       "      <td>2019.0</td>\n",
       "      <td>NaN</td>\n",
       "      <td>13.0</td>\n",
       "      <td>NaN</td>\n",
       "      <td>1.0</td>\n",
       "    </tr>\n",
       "    <tr>\n",
       "      <th>1</th>\n",
       "      <td>89512.0</td>\n",
       "      <td>tt0091490</td>\n",
       "      <td>short</td>\n",
       "      <td>Martina's Playhouse</td>\n",
       "      <td>Martina's Playhouse</td>\n",
       "      <td>0.0</td>\n",
       "      <td>2019.0</td>\n",
       "      <td>NaN</td>\n",
       "      <td>20.0</td>\n",
       "      <td>NaN</td>\n",
       "      <td>2.0</td>\n",
       "    </tr>\n",
       "    <tr>\n",
       "      <th>2</th>\n",
       "      <td>114407.0</td>\n",
       "      <td>tt0116991</td>\n",
       "      <td>movie</td>\n",
       "      <td>Mariette in Ecstasy</td>\n",
       "      <td>Mariette in Ecstasy</td>\n",
       "      <td>0.0</td>\n",
       "      <td>2019.0</td>\n",
       "      <td>NaN</td>\n",
       "      <td>NaN</td>\n",
       "      <td>NaN</td>\n",
       "      <td>3.0</td>\n",
       "    </tr>\n",
       "    <tr>\n",
       "      <th>3</th>\n",
       "      <td>126556.0</td>\n",
       "      <td>tt0129960</td>\n",
       "      <td>tvMovie</td>\n",
       "      <td>Eine geschlossene Gesellschaft</td>\n",
       "      <td>Eine geschlossene Gesellschaft</td>\n",
       "      <td>0.0</td>\n",
       "      <td>2019.0</td>\n",
       "      <td>NaN</td>\n",
       "      <td>NaN</td>\n",
       "      <td>NaN</td>\n",
       "      <td>3.0</td>\n",
       "    </tr>\n",
       "    <tr>\n",
       "      <th>4</th>\n",
       "      <td>166388.0</td>\n",
       "      <td>tt0172112</td>\n",
       "      <td>short</td>\n",
       "      <td>Ambulans</td>\n",
       "      <td>Ambulans</td>\n",
       "      <td>0.0</td>\n",
       "      <td>2019.0</td>\n",
       "      <td>NaN</td>\n",
       "      <td>11.0</td>\n",
       "      <td>NaN</td>\n",
       "      <td>1.0</td>\n",
       "    </tr>\n",
       "  </tbody>\n",
       "</table>\n",
       "</div>"
      ],
      "text/plain": [
       "      index     tconst titleType                    primaryTitle  \\\n",
       "0   87501.0  tt0089435     short                           Kokoa   \n",
       "1   89512.0  tt0091490     short             Martina's Playhouse   \n",
       "2  114407.0  tt0116991     movie             Mariette in Ecstasy   \n",
       "3  126556.0  tt0129960   tvMovie  Eine geschlossene Gesellschaft   \n",
       "4  166388.0  tt0172112     short                        Ambulans   \n",
       "\n",
       "                    originalTitle  isAdult  startYear  endYear  \\\n",
       "0                           Kokoa      0.0     2019.0      NaN   \n",
       "1             Martina's Playhouse      0.0     2019.0      NaN   \n",
       "2             Mariette in Ecstasy      0.0     2019.0      NaN   \n",
       "3  Eine geschlossene Gesellschaft      0.0     2019.0      NaN   \n",
       "4                        Ambulans      0.0     2019.0      NaN   \n",
       "\n",
       "   runtimeMinutes  genres  words_in_title  \n",
       "0            13.0     NaN             1.0  \n",
       "1            20.0     NaN             2.0  \n",
       "2             NaN     NaN             3.0  \n",
       "3             NaN     NaN             3.0  \n",
       "4            11.0     NaN             1.0  "
      ]
     },
     "execution_count": 13,
     "metadata": {},
     "output_type": "execute_result"
    }
   ],
   "source": [
    "imdb[\"words_in_title\"] = imdb[\"primaryTitle\"].str.split().str.len()\n",
    "## check if it worked. \n",
    "imdb.head()"
   ]
  },
  {
   "cell_type": "markdown",
   "metadata": {},
   "source": [
    "## Question 7 What’s the average value of runtimeMinutes for the type short?\n"
   ]
  },
  {
   "cell_type": "code",
   "execution_count": 37,
   "metadata": {},
   "outputs": [
    {
     "data": {
      "text/plain": [
       "12.536104279390065"
      ]
     },
     "execution_count": 37,
     "metadata": {},
     "output_type": "execute_result"
    }
   ],
   "source": [
    "short = imdb[(imdb['titleType'] == 'short')]\n",
    "short.runtimeMinutes.mean()"
   ]
  },
  {
   "cell_type": "code",
   "execution_count": 47,
   "metadata": {},
   "outputs": [
    {
     "data": {
      "text/plain": [
       "12.536104279390065"
      ]
     },
     "execution_count": 47,
     "metadata": {},
     "output_type": "execute_result"
    }
   ],
   "source": [
    "imdb[(imdb['titleType'] == 'short')].runtimeMinutes.mean(skipna = True)"
   ]
  },
  {
   "cell_type": "markdown",
   "metadata": {},
   "source": [
    "### Answer: Run time for short type is 12.54 minutes. "
   ]
  },
  {
   "cell_type": "markdown",
   "metadata": {},
   "source": [
    "## Question 8 Filter imdb to return tvMovie type with 3 or more words in the title, and less than 75 minutes of runTimeMinutes\n"
   ]
  },
  {
   "cell_type": "code",
   "execution_count": 18,
   "metadata": {},
   "outputs": [
    {
     "data": {
      "text/html": [
       "<div>\n",
       "<style scoped>\n",
       "    .dataframe tbody tr th:only-of-type {\n",
       "        vertical-align: middle;\n",
       "    }\n",
       "\n",
       "    .dataframe tbody tr th {\n",
       "        vertical-align: top;\n",
       "    }\n",
       "\n",
       "    .dataframe thead th {\n",
       "        text-align: right;\n",
       "    }\n",
       "</style>\n",
       "<table border=\"1\" class=\"dataframe\">\n",
       "  <thead>\n",
       "    <tr style=\"text-align: right;\">\n",
       "      <th></th>\n",
       "      <th>index</th>\n",
       "      <th>tconst</th>\n",
       "      <th>titleType</th>\n",
       "      <th>primaryTitle</th>\n",
       "      <th>originalTitle</th>\n",
       "      <th>isAdult</th>\n",
       "      <th>startYear</th>\n",
       "      <th>endYear</th>\n",
       "      <th>runtimeMinutes</th>\n",
       "      <th>genres</th>\n",
       "      <th>words_in_title</th>\n",
       "    </tr>\n",
       "  </thead>\n",
       "  <tbody>\n",
       "    <tr>\n",
       "      <th>300242</th>\n",
       "      <td>6586535.0</td>\n",
       "      <td>tt9906166</td>\n",
       "      <td>tvMovie</td>\n",
       "      <td>Flight MH370 5 Years On: The Mystery Continues</td>\n",
       "      <td>Flight MH370 5 Years On: The Mystery Continues</td>\n",
       "      <td>0.0</td>\n",
       "      <td>2019.0</td>\n",
       "      <td>NaN</td>\n",
       "      <td>56.0</td>\n",
       "      <td>NaN</td>\n",
       "      <td>8.0</td>\n",
       "    </tr>\n",
       "    <tr>\n",
       "      <th>300451</th>\n",
       "      <td>6587871.0</td>\n",
       "      <td>tt9908916</td>\n",
       "      <td>tvMovie</td>\n",
       "      <td>Restless Legs Syndrome: The New Cure?</td>\n",
       "      <td>Restless Legs Syndrome: The New Cure?</td>\n",
       "      <td>0.0</td>\n",
       "      <td>2019.0</td>\n",
       "      <td>NaN</td>\n",
       "      <td>60.0</td>\n",
       "      <td>NaN</td>\n",
       "      <td>6.0</td>\n",
       "    </tr>\n",
       "    <tr>\n",
       "      <th>301155</th>\n",
       "      <td>6591048.0</td>\n",
       "      <td>tt9915520</td>\n",
       "      <td>tvMovie</td>\n",
       "      <td>Fascism i en svart bil</td>\n",
       "      <td>Fascism i en svart bil</td>\n",
       "      <td>0.0</td>\n",
       "      <td>2019.0</td>\n",
       "      <td>NaN</td>\n",
       "      <td>55.0</td>\n",
       "      <td>NaN</td>\n",
       "      <td>5.0</td>\n",
       "    </tr>\n",
       "    <tr>\n",
       "      <th>301240</th>\n",
       "      <td>6591316.0</td>\n",
       "      <td>tt9916112</td>\n",
       "      <td>tvMovie</td>\n",
       "      <td>A Priest, a Rabbi, and a Nun walk into a...</td>\n",
       "      <td>A Priest, a Rabbi, and a Nun walk into a...</td>\n",
       "      <td>0.0</td>\n",
       "      <td>2019.0</td>\n",
       "      <td>NaN</td>\n",
       "      <td>21.0</td>\n",
       "      <td>NaN</td>\n",
       "      <td>10.0</td>\n",
       "    </tr>\n",
       "    <tr>\n",
       "      <th>301247</th>\n",
       "      <td>6591353.0</td>\n",
       "      <td>tt9916192</td>\n",
       "      <td>tvMovie</td>\n",
       "      <td>Danielle Darrieux: Il est poli d'être gai!</td>\n",
       "      <td>Danielle Darrieux: Il est poli d'être gai!</td>\n",
       "      <td>0.0</td>\n",
       "      <td>2019.0</td>\n",
       "      <td>NaN</td>\n",
       "      <td>53.0</td>\n",
       "      <td>NaN</td>\n",
       "      <td>7.0</td>\n",
       "    </tr>\n",
       "  </tbody>\n",
       "</table>\n",
       "</div>"
      ],
      "text/plain": [
       "            index     tconst titleType  \\\n",
       "300242  6586535.0  tt9906166   tvMovie   \n",
       "300451  6587871.0  tt9908916   tvMovie   \n",
       "301155  6591048.0  tt9915520   tvMovie   \n",
       "301240  6591316.0  tt9916112   tvMovie   \n",
       "301247  6591353.0  tt9916192   tvMovie   \n",
       "\n",
       "                                          primaryTitle  \\\n",
       "300242  Flight MH370 5 Years On: The Mystery Continues   \n",
       "300451           Restless Legs Syndrome: The New Cure?   \n",
       "301155                          Fascism i en svart bil   \n",
       "301240     A Priest, a Rabbi, and a Nun walk into a...   \n",
       "301247      Danielle Darrieux: Il est poli d'être gai!   \n",
       "\n",
       "                                         originalTitle  isAdult  startYear  \\\n",
       "300242  Flight MH370 5 Years On: The Mystery Continues      0.0     2019.0   \n",
       "300451           Restless Legs Syndrome: The New Cure?      0.0     2019.0   \n",
       "301155                          Fascism i en svart bil      0.0     2019.0   \n",
       "301240     A Priest, a Rabbi, and a Nun walk into a...      0.0     2019.0   \n",
       "301247      Danielle Darrieux: Il est poli d'être gai!      0.0     2019.0   \n",
       "\n",
       "        endYear  runtimeMinutes  genres  words_in_title  \n",
       "300242      NaN            56.0     NaN             8.0  \n",
       "300451      NaN            60.0     NaN             6.0  \n",
       "301155      NaN            55.0     NaN             5.0  \n",
       "301240      NaN            21.0     NaN            10.0  \n",
       "301247      NaN            53.0     NaN             7.0  "
      ]
     },
     "execution_count": 18,
     "metadata": {},
     "output_type": "execute_result"
    }
   ],
   "source": [
    "imdb[(imdb.titleType == 'tvMovie') & (imdb.words_in_title >3) & (imdb.runtimeMinutes<75)].tail()"
   ]
  }
 ],
 "metadata": {
  "kernelspec": {
   "display_name": "Python 3",
   "language": "python",
   "name": "python3"
  },
  "language_info": {
   "codemirror_mode": {
    "name": "ipython",
    "version": 3
   },
   "file_extension": ".py",
   "mimetype": "text/x-python",
   "name": "python",
   "nbconvert_exporter": "python",
   "pygments_lexer": "ipython3",
   "version": "3.7.4"
  }
 },
 "nbformat": 4,
 "nbformat_minor": 4
}
