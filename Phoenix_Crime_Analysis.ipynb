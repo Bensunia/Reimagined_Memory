{
 "cells": [
  {
   "cell_type": "markdown",
   "metadata": {},
   "source": [
    "# Phoenix Crime Analysis\n",
    "1. Setting up Spark Environment. \n",
    "2. Connecting to Dataset. \n",
    "3. Analysis of Dataset. \n",
    "    3.1 Infer schema and total row counter. \n",
    "    3.2 Identifying Data. \n",
    "    3.3 Profiling Columns.\n",
    "4. Columns Basic Analysis\n",
    "    4.1 Time Columns\n",
    "    4.2 Crime Columns\n",
    "    4.3 Location Columns\n",
    "5. Business questions to improve reduce crime in Phoenix.\n",
    "    5.1 Top 10 Zip Codes by crime category. \n",
    "    5.2 \n",
    "    5.3 Analysis of the ZIP codes that have the highest % of violent crimes. "
   ]
  },
  {
   "cell_type": "markdown",
   "metadata": {},
   "source": [
    "## 1. Setting up Spark environment"
   ]
  },
  {
   "cell_type": "code",
   "execution_count": 2,
   "metadata": {},
   "outputs": [],
   "source": [
    "import findspark\n",
    "findspark.init()\n",
    "\n",
    "from pyspark.context import SparkContext\n",
    "from pyspark.sql.session import SparkSession\n",
    "\n",
    "sc = SparkContext.getOrCreate()\n",
    "spark = SparkSession(sc)"
   ]
  },
  {
   "cell_type": "markdown",
   "metadata": {},
   "source": [
    "## 2. Connecting to Dataset. Creating a Data Frame"
   ]
  },
  {
   "cell_type": "code",
   "execution_count": 3,
   "metadata": {},
   "outputs": [],
   "source": [
    "crime_DF = spark.read \\\n",
    "                 .option(\"inferSchema\", \"true\") \\\n",
    "                 .option(\"header\", \"true\") \\\n",
    "                 .csv(\"Phoenix_Crime.csv\")"
   ]
  },
  {
   "cell_type": "markdown",
   "metadata": {},
   "source": [
    "## 3. Analysis of data set\n",
    "### 3.1 Infer schema and total row counter "
   ]
  },
  {
   "cell_type": "code",
   "execution_count": 4,
   "metadata": {
    "scrolled": true
   },
   "outputs": [
    {
     "name": "stdout",
     "output_type": "stream",
     "text": [
      "root\n",
      " |-- INC NUMBER: string (nullable = true)\n",
      " |-- OCCURRED ON: timestamp (nullable = true)\n",
      " |-- OCCURRED TO: timestamp (nullable = true)\n",
      " |-- UCR CRIME CATEGORY: string (nullable = true)\n",
      " |-- 100 BLOCK ADDR: string (nullable = true)\n",
      " |-- ZIP: integer (nullable = true)\n",
      " |-- PREMISE TYPE: string (nullable = true)\n",
      "\n"
     ]
    },
    {
     "data": {
      "text/markdown": [
       "This DataFrame has **280531 rows**."
      ],
      "text/plain": [
       "<IPython.core.display.Markdown object>"
      ]
     },
     "metadata": {},
     "output_type": "display_data"
    }
   ],
   "source": [
    "from IPython.display import *\n",
    "from pyspark.sql.functions import *\n",
    "\n",
    "crime_DF.printSchema()\n",
    "display(Markdown(\"This DataFrame has **%d rows**.\" % crime_DF.count()))"
   ]
  },
  {
   "cell_type": "markdown",
   "metadata": {},
   "source": [
    "### 3.2 Identifying Data\n",
    "- **Entities: Crimes, Zip Code, Type of Establishment.**\n",
    "- **Metrics: Stamp Times for the crime in and out.** \n",
    "- **Dimensions: Addressess, Unique Identifier of Crime.**\n",
    "\n",
    "######## Unique identifier wont be taken into account during analysis. "
   ]
  },
  {
   "cell_type": "markdown",
   "metadata": {},
   "source": [
    "### 3.3 Profiling Columns\n",
    "- **Time Columns: OCCURRED ON, OCCURRED TO.**\n",
    "- **Crime Columns: UCR CRIME CATEGORY, PREMISE TYPE.**\n",
    "- **Location Columns: 100 BLOCK ADDR, ZIP.**"
   ]
  },
  {
   "cell_type": "markdown",
   "metadata": {},
   "source": [
    "## 4. Columns Basic Analysis \n",
    "### 4.1 Time Columns Analysis"
   ]
  },
  {
   "cell_type": "code",
   "execution_count": 13,
   "metadata": {},
   "outputs": [
    {
     "name": "stdout",
     "output_type": "stream",
     "text": [
      "Checking for nulls on columns Occurred On, Occurred To:\n",
      "+-----------+-----------+\n",
      "|OCCURRED ON|OCCURRED TO|\n",
      "+-----------+-----------+\n",
      "|        420|      87329|\n",
      "+-----------+-----------+\n",
      "\n",
      "Checking amount of distinct values in columns Occurred On, Occurred To:\n",
      "+-----------+-----------+\n",
      "|OCCURRED ON|OCCURRED TO|\n",
      "+-----------+-----------+\n",
      "|     177644|     139569|\n",
      "+-----------+-----------+\n",
      "\n",
      "Most and least frequent occurrences for Occured On and Occurred To:\n",
      "+-------------------+-----+\n",
      "|        OCCURRED ON|Total|\n",
      "+-------------------+-----+\n",
      "|2015-11-23 23:18:00|    1|\n",
      "|2015-11-16 07:55:00|    1|\n",
      "|2015-11-14 02:30:00|    1|\n",
      "|2015-11-15 01:45:00|    1|\n",
      "|2015-11-24 06:10:00|    1|\n",
      "+-------------------+-----+\n",
      "only showing top 5 rows\n",
      "\n",
      "+-------------------+-----+\n",
      "|        OCCURRED ON|Total|\n",
      "+-------------------+-----+\n",
      "|               null|  420|\n",
      "|2019-04-01 00:00:00|   59|\n",
      "|2019-08-01 00:00:00|   46|\n",
      "|2019-01-01 00:00:00|   44|\n",
      "|2019-06-01 00:00:00|   42|\n",
      "+-------------------+-----+\n",
      "only showing top 5 rows\n",
      "\n",
      "+-------------------+-----+\n",
      "|        OCCURRED TO|Total|\n",
      "+-------------------+-----+\n",
      "|2015-11-22 20:15:00|    1|\n",
      "|2015-12-10 10:27:00|    1|\n",
      "|2015-11-24 16:42:00|    1|\n",
      "|2015-11-08 06:06:00|    1|\n",
      "|2015-12-09 19:20:00|    1|\n",
      "+-------------------+-----+\n",
      "only showing top 5 rows\n",
      "\n",
      "+-------------------+-----+\n",
      "|        OCCURRED TO|Total|\n",
      "+-------------------+-----+\n",
      "|               null|87329|\n",
      "|2018-10-31 00:00:00|   13|\n",
      "|2019-12-02 08:00:00|   13|\n",
      "|2019-11-11 00:00:00|   13|\n",
      "|2020-01-04 00:00:00|   12|\n",
      "+-------------------+-----+\n",
      "only showing top 5 rows\n",
      "\n",
      "+---------------+-----------+-------------------+-------------------+-------------------+-----+--------------------+\n",
      "|     INC NUMBER|OCCURRED ON|        OCCURRED TO| UCR CRIME CATEGORY|     100 BLOCK ADDR|  ZIP|        PREMISE TYPE|\n",
      "+---------------+-----------+-------------------+-------------------+-------------------+-----+--------------------+\n",
      "|201500002110561|       null|2015-11-02 14:40:00|            ROBBERY| 41XX W BASELINE RD|85041|STREET / ROADWAY ...|\n",
      "|201500002200599|       null|2015-11-14 12:00:00|      LARCENY-THEFT|  42XX W VERNON AVE|85009| SINGLE FAMILY HOUSE|\n",
      "|201500002132194|       null|2015-11-02 17:00:00|           BURGLARY|32XX E ROOSEVELT ST|85008|           APARTMENT|\n",
      "|201500002266800|       null|2015-11-05 14:30:00|      LARCENY-THEFT|     47XX N 20TH ST|85016|GROCERY / SUPER M...|\n",
      "|201500002156362|       null|2015-11-07 12:00:00|      LARCENY-THEFT|     34XX N 32ND ST|85016|         PARKING LOT|\n",
      "|201500002146054|       null|2015-11-07 19:00:00|            ROBBERY| 15XX E MCDOWELL RD|85006|STREET / ROADWAY ...|\n",
      "|201500002150192|       null|2015-11-08 10:30:00|      LARCENY-THEFT|    130XX S 46TH ST|85044|             UNKNOWN|\n",
      "|201500002149666|       null|2015-11-08 11:12:00|      LARCENY-THEFT| 9XX E VAN BUREN ST|85006|CONVENIENCE MARKE...|\n",
      "|201510000016821|       null|2015-11-10 10:40:00|MOTOR VEHICLE THEFT| 36XX E MCDOWELL RD|85008|                null|\n",
      "|201500002170177|       null|2015-11-11 14:00:00|      LARCENY-THEFT|   1XX E DUNLAP AVE|85020|     RETAIL BUSINESS|\n",
      "+---------------+-----------+-------------------+-------------------+-------------------+-----+--------------------+\n",
      "only showing top 10 rows\n",
      "\n"
     ]
    }
   ],
   "source": [
    "## Time Columns Analysis\n",
    "from IPython.display import display, Markdown\n",
    "from pyspark.sql.functions import when, count, col, countDistinct, desc, first, lit\n",
    "\n",
    "print(\"Checking for nulls on columns Occurred On, Occurred To:\")\n",
    "crime_DF.select([count(when(col(c).isNull(), c)).alias(c) for c in [\"OCCURRED ON\",\"OCCURRED TO\"]]).show()\n",
    "\n",
    "print(\"Checking amount of distinct values in columns Occurred On, Occurred To:\")\n",
    "crime_DF.select([countDistinct(c).alias(c) for c in [\"OCCURRED ON\",\"OCCURRED TO\"]]).show()\n",
    "\n",
    "print (\"Most and least frequent occurrences for Occured On and Occurred To:\")\n",
    "OccurredONDF = crime_DF.groupBy(\"OCCURRED ON\").agg(count(lit(1)).alias(\"Total\"))\n",
    "OccurredTODF = crime_DF.groupBy(\"OCCURRED TO\").agg(count(lit(1)).alias(\"Total\"))\n",
    "\n",
    "leastFreqOCCON    = OccurredONDF.orderBy(col(\"Total\").asc()).show(5)\n",
    "mostFreqOCCON     = OccurredONDF.orderBy(col(\"Total\").desc()).show(5)\n",
    "leastFreqOCCTO     = OccurredTODF.orderBy(col(\"Total\").asc()).show(5)\n",
    "mostFreqOCCTO      = OccurredTODF.orderBy(col(\"Total\").desc()).show(5)\n"
   ]
  },
  {
   "cell_type": "code",
   "execution_count": 33,
   "metadata": {},
   "outputs": [
    {
     "name": "stdout",
     "output_type": "stream",
     "text": [
      "+---------------+-----------+-------------------+-------------------+-------------------+-----+--------------------+\n",
      "|     INC NUMBER|OCCURRED ON|        OCCURRED TO| UCR CRIME CATEGORY|     100 BLOCK ADDR|  ZIP|        PREMISE TYPE|\n",
      "+---------------+-----------+-------------------+-------------------+-------------------+-----+--------------------+\n",
      "|201500002110561|       null|2015-11-02 14:40:00|            ROBBERY| 41XX W BASELINE RD|85041|STREET / ROADWAY ...|\n",
      "|201500002200599|       null|2015-11-14 12:00:00|      LARCENY-THEFT|  42XX W VERNON AVE|85009| SINGLE FAMILY HOUSE|\n",
      "|201500002132194|       null|2015-11-02 17:00:00|           BURGLARY|32XX E ROOSEVELT ST|85008|           APARTMENT|\n",
      "|201500002266800|       null|2015-11-05 14:30:00|      LARCENY-THEFT|     47XX N 20TH ST|85016|GROCERY / SUPER M...|\n",
      "|201500002156362|       null|2015-11-07 12:00:00|      LARCENY-THEFT|     34XX N 32ND ST|85016|         PARKING LOT|\n",
      "|201500002146054|       null|2015-11-07 19:00:00|            ROBBERY| 15XX E MCDOWELL RD|85006|STREET / ROADWAY ...|\n",
      "|201500002150192|       null|2015-11-08 10:30:00|      LARCENY-THEFT|    130XX S 46TH ST|85044|             UNKNOWN|\n",
      "|201500002149666|       null|2015-11-08 11:12:00|      LARCENY-THEFT| 9XX E VAN BUREN ST|85006|CONVENIENCE MARKE...|\n",
      "|201510000016821|       null|2015-11-10 10:40:00|MOTOR VEHICLE THEFT| 36XX E MCDOWELL RD|85008|                null|\n",
      "|201500002170177|       null|2015-11-11 14:00:00|      LARCENY-THEFT|   1XX E DUNLAP AVE|85020|     RETAIL BUSINESS|\n",
      "+---------------+-----------+-------------------+-------------------+-------------------+-----+--------------------+\n",
      "only showing top 10 rows\n",
      "\n"
     ]
    }
   ],
   "source": [
    "crime_DF.orderBy(col(\"OCCURRED ON\").asc()).show(10)"
   ]
  },
  {
   "cell_type": "markdown",
   "metadata": {},
   "source": [
    "### 4.2 Crime Columns Analysis"
   ]
  },
  {
   "cell_type": "code",
   "execution_count": 6,
   "metadata": {
    "scrolled": true
   },
   "outputs": [
    {
     "name": "stdout",
     "output_type": "stream",
     "text": [
      "Checking for nulls on columns UCR CRIME CATEGORY, PREMISE TYPE:\n",
      "+------------------+------------+\n",
      "|UCR CRIME CATEGORY|PREMISE TYPE|\n",
      "+------------------+------------+\n",
      "|                 0|        1498|\n",
      "+------------------+------------+\n",
      "\n",
      "Checking amount of distinct values in columns UCR CRIME CATEGORY, PREMISE TYPE:\n",
      "+------------------+------------+\n",
      "|UCR CRIME CATEGORY|PREMISE TYPE|\n",
      "+------------------+------------+\n",
      "|                 9|          98|\n",
      "+------------------+------------+\n",
      "\n",
      "Most and least frequent occurrences for CRIME and PREMISE:\n"
     ]
    },
    {
     "data": {
      "text/markdown": [
       "\n",
       "| leastOccurrencesCrime | mostOccurrencesCrime | leastOccurrencesPremise | mostOccurrencesPremise |\n",
       "|----|----|----|----|\n",
       "| MURDER AND NON-NEGLIGENT MANSLAUGHTER (563 crimes) | LARCENY-THEFT (143401 crimes) | TRIBAL LANDS (2 incidents) | SINGLE FAMILY HOUSE (48534 incidents) |\n"
      ],
      "text/plain": [
       "<IPython.core.display.Markdown object>"
      ]
     },
     "metadata": {},
     "output_type": "display_data"
    },
    {
     "name": "stdout",
     "output_type": "stream",
     "text": [
      "+--------------------+------+\n",
      "|  UCR CRIME CATEGORY| Total|\n",
      "+--------------------+------+\n",
      "|       LARCENY-THEFT|143401|\n",
      "|            BURGLARY| 43952|\n",
      "| MOTOR VEHICLE THEFT| 29632|\n",
      "|        DRUG OFFENSE| 23821|\n",
      "|  AGGRAVATED ASSAULT| 21424|\n",
      "|             ROBBERY| 11837|\n",
      "|                RAPE|  4114|\n",
      "|               ARSON|  1787|\n",
      "|MURDER AND NON-NE...|   563|\n",
      "+--------------------+------+\n",
      "\n"
     ]
    }
   ],
   "source": [
    "### Crime Columns Analysis\n",
    "from IPython.display import display, Markdown\n",
    "from pyspark.sql.functions import when, count, col, countDistinct, desc, first, lit\n",
    "\n",
    "print(\"Checking for nulls on columns UCR CRIME CATEGORY, PREMISE TYPE:\")\n",
    "crime_DF.select([count(when(col(c).isNull(), c)).alias(c) for c in [\"UCR CRIME CATEGORY\",\"PREMISE TYPE\"]]).show()\n",
    "\n",
    "print(\"Checking amount of distinct values in columns UCR CRIME CATEGORY, PREMISE TYPE:\")\n",
    "crime_DF.select([countDistinct(c).alias(c) for c in [\"UCR CRIME CATEGORY\",\"PREMISE TYPE\"]]).show()\n",
    "\n",
    "print (\"Most and least frequent occurrences for CRIME and PREMISE:\")\n",
    "CrimeOccurrencesDF = crime_DF.groupBy(\"UCR CRIME CATEGORY\").agg(count(lit(1)).alias(\"Total\"))\n",
    "PremiseDF = crime_DF.groupBy(\"PREMISE TYPE\").agg(count(lit(1)).alias(\"Total\"))\n",
    "\n",
    "leastOccurrencesCrime    = CrimeOccurrencesDF.orderBy(col(\"Total\").asc()).first()\n",
    "mostOccurrencesCrime     = CrimeOccurrencesDF.orderBy(col(\"Total\").desc()).first()\n",
    "leastOccurrencesPremise     = PremiseDF.orderBy(col(\"Total\").asc()).first()\n",
    "mostOccurrencesPremise      = PremiseDF.orderBy(col(\"Total\").desc()).first()\n",
    "\n",
    "display(Markdown(\"\"\"\n",
    "| %s | %s | %s | %s |\n",
    "|----|----|----|----|\n",
    "| %s | %s | %s | %s |\n",
    "\"\"\" % (\"leastOccurrencesCrime\", \"mostOccurrencesCrime\", \"leastOccurrencesPremise\", \"mostOccurrencesPremise\",\\\n",
    "       \"%s (%d crimes)\" % (leastOccurrencesCrime[\"UCR CRIME CATEGORY\"], leastOccurrencesCrime[\"Total\"]),\\\n",
    "       \"%s (%d crimes)\" % (mostOccurrencesCrime[\"UCR CRIME CATEGORY\"], mostOccurrencesCrime[\"Total\"]),\\\n",
    "       \"%s (%d incidents)\" % (leastOccurrencesPremise[\"PREMISE TYPE\"], leastOccurrencesPremise[\"Total\"]),\\\n",
    "       \"%s (%d incidents)\" % (mostOccurrencesPremise[\"PREMISE TYPE\"], mostOccurrencesPremise[\"Total\"]))))\n",
    "\n",
    "showCrime  = CrimeOccurrencesDF.orderBy(col(\"Total\").desc()).show()\n"
   ]
  },
  {
   "cell_type": "markdown",
   "metadata": {},
   "source": [
    "### 4.3 Location Columns Analysis"
   ]
  },
  {
   "cell_type": "code",
   "execution_count": 7,
   "metadata": {},
   "outputs": [
    {
     "name": "stdout",
     "output_type": "stream",
     "text": [
      "root\n",
      " |-- INC NUMBER: string (nullable = true)\n",
      " |-- OCCURRED ON: timestamp (nullable = true)\n",
      " |-- OCCURRED TO: timestamp (nullable = true)\n",
      " |-- UCR CRIME CATEGORY: string (nullable = true)\n",
      " |-- 100 BLOCK ADDR: string (nullable = true)\n",
      " |-- ZIP: string (nullable = true)\n",
      " |-- PREMISE TYPE: string (nullable = true)\n",
      "\n",
      "Checking for nulls on columns 100 BLOCK ADDR, ZIP:\n",
      "+---+--------------+\n",
      "|ZIP|100 BLOCK ADDR|\n",
      "+---+--------------+\n",
      "|  6|             0|\n",
      "+---+--------------+\n",
      "\n",
      "Checking amount of distinct values in columns 100 BLOCK ADDR, ZIP:\n",
      "+---+--------------+\n",
      "|ZIP|100 BLOCK ADDR|\n",
      "+---+--------------+\n",
      "|109|         39560|\n",
      "+---+--------------+\n",
      "\n",
      "Most and least frequent occurrences for ZIP and 100 BLOCK ADDR:\n",
      "ZIP codes with the LEAST amount of crimes:\n",
      "+-----+-----+\n",
      "|  ZIP|Total|\n",
      "+-----+-----+\n",
      "|85266|    1|\n",
      "|85374|    1|\n",
      "|85262|    1|\n",
      "|85388|    1|\n",
      "|85212|    1|\n",
      "|85268|    1|\n",
      "|85381|    1|\n",
      "|85351|    1|\n",
      "|85203|    1|\n",
      "|85355|    1|\n",
      "+-----+-----+\n",
      "only showing top 10 rows\n",
      "\n",
      "ZIP codes with the MOST amount of crimes:\n",
      "+-----+-----+\n",
      "|  ZIP|Total|\n",
      "+-----+-----+\n",
      "|85015|14429|\n",
      "|85008|13042|\n",
      "|85009|12342|\n",
      "|85041|12309|\n",
      "|85051|12163|\n",
      "|85017|11595|\n",
      "|85035|10443|\n",
      "|85043| 9725|\n",
      "|85021| 9502|\n",
      "|85033| 9264|\n",
      "+-----+-----+\n",
      "only showing top 10 rows\n",
      "\n",
      "Addresses with the LEAST amount of crime:\n",
      "+--------------------+-----+\n",
      "|      100 BLOCK ADDR|Total|\n",
      "+--------------------+-----+\n",
      "|     77XX N 12TH AVE|    1|\n",
      "|  36XX E COOLIDGE ST|    1|\n",
      "|       XX N 67TH AVE|    1|\n",
      "|53XX E POINSETTIA DR|    1|\n",
      "|  51XX E PALOMINO RD|    1|\n",
      "|     71XX W FLYNN LN|    1|\n",
      "|      8XX W GROVE ST|    1|\n",
      "|     176XX N 36TH ST|    1|\n",
      "|      86XX S 16TH ST|    1|\n",
      "|N 19TH AVE & W CL...|    1|\n",
      "+--------------------+-----+\n",
      "only showing top 10 rows\n",
      "\n",
      "Addresses with the MOST amount of crime:\n",
      "+--------------------+-----+\n",
      "|      100 BLOCK ADDR|Total|\n",
      "+--------------------+-----+\n",
      "|      18XX W BELL RD| 1821|\n",
      "|     61XX N 35TH AVE| 1461|\n",
      "|     57XX N 19TH AVE| 1405|\n",
      "|16XX W BETHANY HO...| 1159|\n",
      "|    37XX E THOMAS RD| 1128|\n",
      "|     61XX S 35TH AVE|  985|\n",
      "|    76XX W THOMAS RD|  929|\n",
      "|52XX W INDIAN SCH...|  915|\n",
      "|     20XX N 75TH AVE|  862|\n",
      "|17XX W BETHANY HO...|  807|\n",
      "+--------------------+-----+\n",
      "only showing top 10 rows\n",
      "\n"
     ]
    }
   ],
   "source": [
    "## Address Columns Anaylsis:\n",
    "from IPython.display import display, Markdown\n",
    "from pyspark.sql.functions import StringType\n",
    "\n",
    "## Casting ZIP Column into a string. \n",
    "crime_DF.withColumn(\"ZIP\", col(\"ZIP\").cast(StringType())).printSchema()\n",
    "\n",
    "print(\"Checking for nulls on columns 100 BLOCK ADDR, ZIP:\")\n",
    "crime_DF.select([count(when(col(c).isNull(), c)).alias(c) for c in [\"ZIP\",\"100 BLOCK ADDR\"]]).show()\n",
    "\n",
    "print(\"Checking amount of distinct values in columns 100 BLOCK ADDR, ZIP:\")\n",
    "crime_DF.select([countDistinct(c).alias(c) for c in [\"ZIP\",\"100 BLOCK ADDR\"]]).show()\n",
    "\n",
    "print (\"Most and least frequent occurrences for ZIP and 100 BLOCK ADDR:\")\n",
    "ZIPOccurrencesDF = crime_DF.groupBy(\"ZIP\").agg(count(lit(1)).alias(\"Total\"))\n",
    "ADDRDF = crime_DF.groupBy(\"100 BLOCK ADDR\").agg(count(lit(1)).alias(\"Total\"))\n",
    "\n",
    "print(\"ZIP codes with the LEAST amount of crimes:\")\n",
    "leastOccurrencesZIP    = ZIPOccurrencesDF.orderBy(col(\"Total\").asc()).show(10)\n",
    "print(\"ZIP codes with the MOST amount of crimes:\")\n",
    "mostOccurrencesZIP     = ZIPOccurrencesDF.orderBy(col(\"Total\").desc()).show(10)\n",
    "print(\"Addresses with the LEAST amount of crime:\")\n",
    "leastOccurrencesADDR     = ADDRDF.orderBy(col(\"Total\").asc()).show(10)\n",
    "print(\"Addresses with the MOST amount of crime:\")\n",
    "mostOccurrencesADDR      = ADDRDF.orderBy(col(\"Total\").desc()).show(10)\n"
   ]
  },
  {
   "cell_type": "markdown",
   "metadata": {},
   "source": [
    "## 5. Business questions to improve safety in Phoenix\n",
    "### 5.1  Ratio of crimes by severity."
   ]
  },
  {
   "cell_type": "code",
   "execution_count": 8,
   "metadata": {},
   "outputs": [
    {
     "name": "stdout",
     "output_type": "stream",
     "text": [
      "Ratio for UCR CRIME CATEGORIES:\n",
      "+--------------------+----------+-------------+\n",
      "|  UCR CRIME CATEGORY|NUM CRIMES|ROUNDED RATIO|\n",
      "+--------------------+----------+-------------+\n",
      "|  AGGRAVATED ASSAULT|     21424|          7.6|\n",
      "|               ARSON|      1787|          0.6|\n",
      "|            BURGLARY|     43952|         15.7|\n",
      "|        DRUG OFFENSE|     23821|          8.5|\n",
      "|       LARCENY-THEFT|    143401|         51.1|\n",
      "| MOTOR VEHICLE THEFT|     29632|         10.6|\n",
      "|MURDER AND NON-NE...|       563|          0.2|\n",
      "|                RAPE|      4114|          1.5|\n",
      "|             ROBBERY|     11837|          4.2|\n",
      "+--------------------+----------+-------------+\n",
      "\n",
      "Crime Severity Categories:\n",
      "     -'EXTREME'= MURDER AND NON-NEGLIGENT MANSLAUGHTER , RAPE\n",
      "     -'MAJOR' = AGGRAVATED ASSAULT, ARSON, ROBBERY\n",
      "     -'INTERMEDIATE' = LARCENY-THEFT, MOTOR VEHICLE THEFT\n",
      "     -'MINOR' = DRUG OFFENSE, BURGLARY\n",
      "\n",
      "Ratio of Crime Severity:\n",
      "+--------------+----------+-------------+\n",
      "|CRIME SEVERITY|NUM CRIMES|ROUNDED RATIO|\n",
      "+--------------+----------+-------------+\n",
      "|       1.MINOR|     67773|         24.2|\n",
      "|2.INTERMEDIATE|    173033|         61.7|\n",
      "|       3.MAJOR|     35048|         12.5|\n",
      "|     4.EXTREME|      4677|          1.7|\n",
      "+--------------+----------+-------------+\n",
      "\n"
     ]
    }
   ],
   "source": [
    "from pyspark.sql.functions import *\n",
    "\n",
    "# Crime severity is going to be categorized as follows (totally made up):\n",
    "#\n",
    "#   '4.EXTREME'= MURDER AND NON-NEGLIGENT MANSLAUGHTER , RAPE\n",
    "#   '3.MAJOR'= AGGRAVATED ASSAULT, ARSON, ROBBERY\n",
    "#   '2.INTERMEDIATE'= LARCENY-THEFT, MOTOR VEHICLE THEFT\n",
    "#   '1.MINOR'= DRUG OFFENSE, BURGLARY\n",
    "\n",
    "# 1. Let's enrich the DF with  crime severity based on our categorization\n",
    "\n",
    "totalcrimes = crime_DF.count()\n",
    "crimeCategoryDF = crime_DF.withColumn(\"CRIME SEVERITY\", when((col(\"UCR CRIME CATEGORY\")==\"ARSON\"),\"3.MAJOR\")\\\n",
    "                                      .when((col(\"UCR CRIME CATEGORY\")==\"AGGRAVATED ASSAULT\"),\"3.MAJOR\")\\\n",
    "                                      .when((col(\"UCR CRIME CATEGORY\")==\"RAPE\"),\"4.EXTREME\")\\\n",
    "                                      .when((col(\"UCR CRIME CATEGORY\")==\"MURDER AND NON-NEGLIGENT MANSLAUGHTER\"),\"4.EXTREME\")\\\n",
    "                                      .when((col(\"UCR CRIME CATEGORY\")==\"LARCENY-THEFT\"),\"2.INTERMEDIATE\")\\\n",
    "                                      .when((col(\"UCR CRIME CATEGORY\")==\"ROBBERY\"),\"3.MAJOR\") \\\n",
    "                                      .when((col(\"UCR CRIME CATEGORY\")==\"MOTOR VEHICLE THEFT\"),\"2.INTERMEDIATE\")\\\n",
    "                                      .otherwise(\"1.MINOR\"))\n",
    "\n",
    "# 2. Ready to answer to this business question\n",
    "\n",
    "print(\"Ratio for UCR CRIME CATEGORIES:\")\n",
    "\n",
    "crimeCategoryDF.select(\"UCR CRIME CATEGORY\", \"ZIP\")\\\n",
    "                     .groupBy(\"UCR CRIME CATEGORY\")\\\n",
    "                     .agg(count(\"UCR CRIME CATEGORY\").alias(\"NUM CRIMES\"), \\\n",
    "                          (count(\"UCR CRIME CATEGORY\")/totalcrimes*100).alias(\"RATIO\"))\\\n",
    "                     .orderBy(\"UCR CRIME CATEGORY\")\\\n",
    "                     .select(\"UCR CRIME CATEGORY\",\"NUM CRIMES\",round(\"RATIO\",1).alias(\"ROUNDED RATIO\")).show()\n",
    "\n",
    "print(\"Crime Severity Categories:\")\n",
    "print(\"     -'EXTREME'= MURDER AND NON-NEGLIGENT MANSLAUGHTER , RAPE\")\n",
    "print(\"     -'MAJOR' = AGGRAVATED ASSAULT, ARSON, ROBBERY\")\n",
    "print(\"     -'INTERMEDIATE' = LARCENY-THEFT, MOTOR VEHICLE THEFT\")\n",
    "print(\"     -'MINOR' = DRUG OFFENSE, BURGLARY\")\n",
    "print(\"\")\n",
    "print(\"Ratio of Crime Severity:\")\n",
    "\n",
    "crimeCategoryDF.select(\"CRIME SEVERITY\", \"ZIP\")\\\n",
    "                     .groupBy(\"CRIME SEVERITY\")\\\n",
    "                     .agg(count(\"CRIME SEVERITY\").alias(\"NUM CRIMES\"), \\\n",
    "                          (count(\"CRIME SEVERITY\")/totalcrimes*100).alias(\"RATIO\"))\\\n",
    "                     .orderBy(\"CRIME SEVERITY\")\\\n",
    "                     .select(\"CRIME SEVERITY\",\"NUM CRIMES\",round(\"RATIO\",1).alias(\"ROUNDED RATIO\")).show()"
   ]
  },
  {
   "cell_type": "markdown",
   "metadata": {},
   "source": [
    "### 5.2 Ratio of Crimes by Top 20 Premise Type. "
   ]
  },
  {
   "cell_type": "code",
   "execution_count": 11,
   "metadata": {},
   "outputs": [
    {
     "name": "stdout",
     "output_type": "stream",
     "text": [
      "root\n",
      " |-- INC NUMBER: string (nullable = true)\n",
      " |-- OCCURRED ON: timestamp (nullable = true)\n",
      " |-- OCCURRED TO: timestamp (nullable = true)\n",
      " |-- UCR CRIME CATEGORY: string (nullable = true)\n",
      " |-- 100 BLOCK ADDR: string (nullable = true)\n",
      " |-- ZIP: string (nullable = true)\n",
      " |-- PREMISE TYPE: string (nullable = true)\n",
      "\n"
     ]
    },
    {
     "data": {
      "text/markdown": [
       "**Top 20 Premise Types** with highest number of crimes and ratio (in \\%):"
      ],
      "text/plain": [
       "<IPython.core.display.Markdown object>"
      ]
     },
     "metadata": {},
     "output_type": "display_data"
    },
    {
     "name": "stdout",
     "output_type": "stream",
     "text": [
      "+--------------------+------------------+-----+\n",
      "|        PREMISE TYPE|NUM CRIMES/PREMISE|RATIO|\n",
      "+--------------------+------------------+-----+\n",
      "| SINGLE FAMILY HOUSE|             48534| 17.3|\n",
      "|           APARTMENT|             32147| 11.5|\n",
      "|STREET / ROADWAY ...|             28547| 10.2|\n",
      "|         PARKING LOT|             27531|  9.8|\n",
      "|     RETAIL BUSINESS|             21110|  7.5|\n",
      "|             VEHICLE|             14618|  5.2|\n",
      "|CONVENIENCE MARKE...|             10435|  3.7|\n",
      "|DEPARTMENT / DISC...|             10311|  3.7|\n",
      "|            DRIVEWAY|              9980|  3.6|\n",
      "|GROCERY / SUPER M...|              7630|  2.7|\n",
      "|OFFICE / COMMERCI...|              4335|  1.5|\n",
      "|       HOTEL / MOTEL|              4058|  1.4|\n",
      "|     SPECIALTY STORE|              3783|  1.3|\n",
      "|GAS / SERVICE STA...|              3744|  1.3|\n",
      "|          RESTAURANT|              3363|  1.2|\n",
      "|   CONDO / TOWNHOUSE|              3172|  1.1|\n",
      "|FENCED COMMERCIAL...|              2940|  1.0|\n",
      "|   PARK / PLAYGROUND|              2797|  1.0|\n",
      "|SINGLE FAMILY HOU...|              2264|  0.8|\n",
      "|SCHOOL-ELEMENTARY...|              2011|  0.7|\n",
      "+--------------------+------------------+-----+\n",
      "\n"
     ]
    }
   ],
   "source": [
    "from pyspark.sql.types import *\n",
    "from pyspark.sql.functions import *\n",
    "\n",
    "## Casting ZIP Column as STRING. \n",
    "crime_DF.withColumn(\"ZIP\", col(\"ZIP\").cast(StringType())).printSchema()\n",
    "\n",
    "## Generate a table with the Top 20 Premises by amount of crimes. \n",
    "totalcrimes = crime_DF.count()\n",
    "\n",
    "totalCrimesPremiseDF = \\\n",
    "   crime_DF.groupBy(\"Premise Type\")\\\n",
    "           .agg(count(\"Premise Type\").alias(\"TotalPremise\"))\n",
    "\n",
    "RatioPremiseDF = crime_DF.where((col(\"PREMISE TYPE\")!=\"OTHER\"))\\\n",
    "                     .select(\"PREMISE TYPE\",\"UCR CRIME CATEGORY\")\\\n",
    "                     .groupBy(\"PREMISE TYPE\")\\\n",
    "                     .agg(count(\"PREMISE TYPE\").alias(\"NUM CRIMES/PREMISE\"), \\\n",
    "                          (count(\"PREMISE TYPE\")/totalcrimes*100).alias(\"PREMISE RATIO\"))\\\n",
    "                     .orderBy(col(\"NUM CRIMES/PREMISE\").desc())\\\n",
    "                     .select(\"PREMISE TYPE\",\"NUM CRIMES/PREMISE\",round(\"PREMISE RATIO\",1).alias(\"RATIO\")).limit(20)\n",
    "\n",
    "display(Markdown(\"**Top 20 Premise Types** with highest number of crimes and ratio (in \\%):\"))\n",
    "RatioPremiseDF.show()\n"
   ]
  },
  {
   "cell_type": "markdown",
   "metadata": {},
   "source": [
    "### 5.3  Analysis of the ZIP codes that have the highest % of violent crimes. "
   ]
  },
  {
   "cell_type": "code",
   "execution_count": 34,
   "metadata": {},
   "outputs": [
    {
     "data": {
      "text/markdown": [
       "**Top 20 ZIP codes with highest number of crimes by severity ratio (in \\%):**"
      ],
      "text/plain": [
       "<IPython.core.display.Markdown object>"
      ]
     },
     "metadata": {},
     "output_type": "display_data"
    },
    {
     "name": "stdout",
     "output_type": "stream",
     "text": [
      "+-----+--------------+------------------+-----------+---------------------+\n",
      "|  ZIP|CRIME SEVERITY|NUM CRIME SEVERITY|TotalCrimes|SEVERITY BY ZIP RATIO|\n",
      "+-----+--------------+------------------+-----------+---------------------+\n",
      "|85015|       3.MAJOR|              2027|      14429|                14.05|\n",
      "|85017|       3.MAJOR|              1952|      11595|                16.83|\n",
      "|85009|       3.MAJOR|              1879|      12342|                15.22|\n",
      "|85008|       3.MAJOR|              1773|      13042|                13.59|\n",
      "|85051|       3.MAJOR|              1606|      12163|                 13.2|\n",
      "|85041|       3.MAJOR|              1485|      12309|                12.06|\n",
      "|85033|       3.MAJOR|              1457|       9264|                15.73|\n",
      "|85035|       3.MAJOR|              1405|      10443|                13.45|\n",
      "|85021|       3.MAJOR|              1319|       9502|                13.88|\n",
      "|85040|       3.MAJOR|              1215|       8086|                15.03|\n",
      "|85043|       3.MAJOR|              1203|       9725|                12.37|\n",
      "|85031|       3.MAJOR|              1036|       6889|                15.04|\n",
      "|85019|       3.MAJOR|               993|       6383|                15.56|\n",
      "|85029|       3.MAJOR|               951|       8556|                11.12|\n",
      "|85006|       3.MAJOR|               949|       5809|                16.34|\n",
      "|85007|       3.MAJOR|               897|       4680|                19.17|\n",
      "|85032|       3.MAJOR|               896|       8497|                10.54|\n",
      "|85037|       3.MAJOR|               849|       6429|                13.21|\n",
      "|85042|       3.MAJOR|               820|       7563|                10.84|\n",
      "|85034|       3.MAJOR|               765|       6042|                12.66|\n",
      "+-----+--------------+------------------+-----------+---------------------+\n",
      "only showing top 20 rows\n",
      "\n"
     ]
    },
    {
     "data": {
      "text/markdown": [
       "**Top 20 ZIP Codes with most number of crimes by severity category (in \\%):**"
      ],
      "text/plain": [
       "<IPython.core.display.Markdown object>"
      ]
     },
     "metadata": {},
     "output_type": "display_data"
    },
    {
     "name": "stdout",
     "output_type": "stream",
     "text": [
      "+-----+-------+---------+\n",
      "|  ZIP|3.MAJOR|4.EXTREME|\n",
      "+-----+-------+---------+\n",
      "|85202|   9.09|    72.73|\n",
      "|85210|   null|     60.0|\n",
      "|85225|   null|    28.57|\n",
      "|85281|   7.69|    23.08|\n",
      "|85224|   20.0|     20.0|\n",
      "|85323|   12.5|    18.75|\n",
      "|85345|  18.18|    18.18|\n",
      "|85226|  14.29|    14.29|\n",
      "|85302|  13.33|    13.33|\n",
      "|85383|   37.5|     12.5|\n",
      "|85338|  11.11|    11.11|\n",
      "|85251|   3.91|     7.03|\n",
      "|85301|  16.44|     6.85|\n",
      "|85282|   6.25|     6.25|\n",
      "|85045|   8.47|      3.7|\n",
      "|85006|  16.34|     3.53|\n",
      "|85304|   11.0|     3.44|\n",
      "|85003|  14.94|     3.35|\n",
      "|85255|  11.11|     3.33|\n",
      "|85007|  19.17|     2.82|\n",
      "+-----+-------+---------+\n",
      "only showing top 20 rows\n",
      "\n"
     ]
    }
   ],
   "source": [
    "# Our answer to this business question will be:\n",
    "#   1. List of top 10 ZIP codes with highest number of crimes.\n",
    "#      (based on total number of crimes)\n",
    "#   2. List of top 20 ZIP codes crime ratio by severity category (major and extreme)\n",
    "\n",
    "# In order to be able to deliver these insights, we need some preparation:\n",
    "#   1. Define a DataFrame with total crimes per ZIP code (totalCrimesZIPDF)\n",
    "#   2. Define a DataFrame with aggregated data by ZIP code and Crime Severity to figure out\n",
    "#      number of crimes commited per crime severity  (severeCrimesDF)\n",
    "#   3. Combine both DataFrames to come up with one single DataFrame containin total crimes\n",
    "#      per zip code and number of crimes by crime severity to compute ratios (combinedDF)\n",
    "\n",
    "totalCrimesZIPDF = \\\n",
    "   crime_DF.groupBy(\"ZIP\")\\\n",
    "           .agg(count(\"ZIP\").alias(\"TotalCrimes\"))\n",
    "\n",
    "severeCrimesDF = \\\n",
    "  crimeCategoryDF.where((col(\"CRIME SEVERITY\")!=\"1.MINOR\") & (col(\"CRIME SEVERITY\")!=\"2.INTERMEDIATE\"))\\\n",
    "                       .select(\"CRIME SEVERITY\", \"ZIP\", \"UCR CRIME CATEGORY\")\\\n",
    "                       .groupBy(\"ZIP\", \"CRIME SEVERITY\")\\\n",
    "                       .agg(count(\"CRIME SEVERITY\").alias(\"NUM CRIME SEVERITY\"))\n",
    "\n",
    "combinedDF = \\\n",
    "  severeCrimesDF\\\n",
    "     .join(totalCrimesZIPDF, \"ZIP\")\\\n",
    "     .withColumn(\"SEVERITY BY ZIP RATIO\", round(col(\"NUM CRIME SEVERITY\")/col(\"TotalCrimes\")*100,2))\\\n",
    "     .where((col(\"TotalCrimes\")>= 5))\\\n",
    "     .orderBy(col(\"NUM CRIME SEVERITY\").desc(),col(\"ZIP\").desc())\n",
    "\n",
    "display(Markdown(\"**Top 20 ZIP codes with highest number of crimes by severity ratio (in \\%):**\"))\n",
    "combinedDF.limit(100).show(20)\n",
    "\n",
    "display(Markdown(\"**Top 20 ZIP Codes with most number of crimes by severity category (in \\%):**\"))\n",
    "combinedDF\\\n",
    "    .groupBy(\"ZIP\")\\\n",
    "    .pivot(\"CRIME SEVERITY\")\\\n",
    "    .min(\"SEVERITY BY ZIP RATIO\")\\\n",
    "    .orderBy(col(\"`4.EXTREME`\").desc(), col(\"`3.MAJOR`\").desc())\\\n",
    "    .limit(40).show(20)\n"
   ]
  },
  {
   "cell_type": "code",
   "execution_count": null,
   "metadata": {},
   "outputs": [],
   "source": []
  }
 ],
 "metadata": {
  "kernelspec": {
   "display_name": "Python 3",
   "language": "python",
   "name": "python3"
  },
  "language_info": {
   "codemirror_mode": {
    "name": "ipython",
    "version": 3
   },
   "file_extension": ".py",
   "mimetype": "text/x-python",
   "name": "python",
   "nbconvert_exporter": "python",
   "pygments_lexer": "ipython3",
   "version": "3.7.3"
  }
 },
 "nbformat": 4,
 "nbformat_minor": 2
}
